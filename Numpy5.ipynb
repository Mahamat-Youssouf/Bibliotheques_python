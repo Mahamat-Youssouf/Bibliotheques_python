{
 "cells": [
  {
   "cell_type": "markdown",
   "id": "4e1c0f7f",
   "metadata": {},
   "source": [
    "# Opérations d’algèbre linéaire avec Numpy"
   ]
  },
  {
   "cell_type": "code",
   "execution_count": 1,
   "id": "bc4bafe4",
   "metadata": {},
   "outputs": [],
   "source": [
    "import numpy as np"
   ]
  },
  {
   "cell_type": "code",
   "execution_count": 2,
   "id": "37147ba7",
   "metadata": {},
   "outputs": [],
   "source": [
    "vecteur1 = np.arange(0,11)"
   ]
  },
  {
   "cell_type": "code",
   "execution_count": 3,
   "id": "41c397ca",
   "metadata": {},
   "outputs": [],
   "source": [
    "vecteur2 = np.arange(10,21)"
   ]
  },
  {
   "cell_type": "code",
   "execution_count": 4,
   "id": "74c387d0",
   "metadata": {},
   "outputs": [
    {
     "data": {
      "text/plain": [
       "array([ 0,  1,  2,  3,  4,  5,  6,  7,  8,  9, 10])"
      ]
     },
     "execution_count": 4,
     "metadata": {},
     "output_type": "execute_result"
    }
   ],
   "source": [
    "vecteur1"
   ]
  },
  {
   "cell_type": "code",
   "execution_count": 5,
   "id": "4e98a314",
   "metadata": {},
   "outputs": [
    {
     "data": {
      "text/plain": [
       "array([10, 11, 12, 13, 14, 15, 16, 17, 18, 19, 20])"
      ]
     },
     "execution_count": 5,
     "metadata": {},
     "output_type": "execute_result"
    }
   ],
   "source": [
    "vecteur2"
   ]
  },
  {
   "cell_type": "code",
   "execution_count": 6,
   "id": "546b9df2",
   "metadata": {},
   "outputs": [
    {
     "data": {
      "text/plain": [
       "array([10, 12, 14, 16, 18, 20, 22, 24, 26, 28, 30])"
      ]
     },
     "execution_count": 6,
     "metadata": {},
     "output_type": "execute_result"
    }
   ],
   "source": [
    "vecteur1 + vecteur2"
   ]
  },
  {
   "cell_type": "code",
   "execution_count": 7,
   "id": "4faac1d5",
   "metadata": {},
   "outputs": [
    {
     "data": {
      "text/plain": [
       "array([-10, -10, -10, -10, -10, -10, -10, -10, -10, -10, -10])"
      ]
     },
     "execution_count": 7,
     "metadata": {},
     "output_type": "execute_result"
    }
   ],
   "source": [
    "vecteur1 - vecteur2"
   ]
  },
  {
   "cell_type": "code",
   "execution_count": 8,
   "id": "0cc1c96f",
   "metadata": {},
   "outputs": [
    {
     "data": {
      "text/plain": [
       "array([  0,  11,  24,  39,  56,  75,  96, 119, 144, 171, 200])"
      ]
     },
     "execution_count": 8,
     "metadata": {},
     "output_type": "execute_result"
    }
   ],
   "source": [
    "vecteur1 * vecteur2"
   ]
  },
  {
   "cell_type": "code",
   "execution_count": 9,
   "id": "02c2bc3f",
   "metadata": {},
   "outputs": [
    {
     "data": {
      "text/plain": [
       "array([50, 51, 52, 53, 54, 55, 56, 57, 58, 59, 60])"
      ]
     },
     "execution_count": 9,
     "metadata": {},
     "output_type": "execute_result"
    }
   ],
   "source": [
    "vecteur1 + 50"
   ]
  },
  {
   "cell_type": "code",
   "execution_count": 10,
   "id": "6e12102c",
   "metadata": {},
   "outputs": [
    {
     "data": {
      "text/plain": [
       "array([  0,  50, 100, 150, 200, 250, 300, 350, 400, 450, 500])"
      ]
     },
     "execution_count": 10,
     "metadata": {},
     "output_type": "execute_result"
    }
   ],
   "source": [
    "vecteur1 * 50"
   ]
  },
  {
   "cell_type": "code",
   "execution_count": 11,
   "id": "1bcde61a",
   "metadata": {},
   "outputs": [
    {
     "name": "stderr",
     "output_type": "stream",
     "text": [
      "C:\\Users\\maham\\AppData\\Local\\Temp\\ipykernel_47888\\4191997321.py:1: RuntimeWarning: divide by zero encountered in true_divide\n",
      "  20/vecteur1\n"
     ]
    },
    {
     "data": {
      "text/plain": [
       "array([        inf, 20.        , 10.        ,  6.66666667,  5.        ,\n",
       "        4.        ,  3.33333333,  2.85714286,  2.5       ,  2.22222222,\n",
       "        2.        ])"
      ]
     },
     "execution_count": 11,
     "metadata": {},
     "output_type": "execute_result"
    }
   ],
   "source": [
    "20/vecteur1"
   ]
  },
  {
   "cell_type": "code",
   "execution_count": 12,
   "id": "dd048f4b",
   "metadata": {},
   "outputs": [
    {
     "data": {
      "text/plain": [
       "array([2.        , 1.81818182, 1.66666667, 1.53846154, 1.42857143,\n",
       "       1.33333333, 1.25      , 1.17647059, 1.11111111, 1.05263158,\n",
       "       1.        ])"
      ]
     },
     "execution_count": 12,
     "metadata": {},
     "output_type": "execute_result"
    }
   ],
   "source": [
    "20/vecteur2"
   ]
  },
  {
   "cell_type": "code",
   "execution_count": 13,
   "id": "7ebfb34d",
   "metadata": {},
   "outputs": [
    {
     "data": {
      "text/plain": [
       "array([0.        , 0.09090909, 0.16666667, 0.23076923, 0.28571429,\n",
       "       0.33333333, 0.375     , 0.41176471, 0.44444444, 0.47368421,\n",
       "       0.5       ])"
      ]
     },
     "execution_count": 13,
     "metadata": {},
     "output_type": "execute_result"
    }
   ],
   "source": [
    "vecteur1/vecteur2"
   ]
  },
  {
   "cell_type": "code",
   "execution_count": 14,
   "id": "97dc4947",
   "metadata": {},
   "outputs": [
    {
     "data": {
      "text/plain": [
       "array([  0,   1,   4,   9,  16,  25,  36,  49,  64,  81, 100], dtype=int32)"
      ]
     },
     "execution_count": 14,
     "metadata": {},
     "output_type": "execute_result"
    }
   ],
   "source": [
    "vecteur1 **2"
   ]
  },
  {
   "cell_type": "code",
   "execution_count": 15,
   "id": "c6ab855d",
   "metadata": {},
   "outputs": [
    {
     "data": {
      "text/plain": [
       "array([0.        , 1.        , 1.41421356, 1.73205081, 2.        ,\n",
       "       2.23606798, 2.44948974, 2.64575131, 2.82842712, 3.        ,\n",
       "       3.16227766])"
      ]
     },
     "execution_count": 15,
     "metadata": {},
     "output_type": "execute_result"
    }
   ],
   "source": [
    "np.sqrt(vecteur1)"
   ]
  },
  {
   "cell_type": "code",
   "execution_count": 16,
   "id": "1b61db50",
   "metadata": {},
   "outputs": [
    {
     "data": {
      "text/plain": [
       "array([1.00000000e+00, 2.71828183e+00, 7.38905610e+00, 2.00855369e+01,\n",
       "       5.45981500e+01, 1.48413159e+02, 4.03428793e+02, 1.09663316e+03,\n",
       "       2.98095799e+03, 8.10308393e+03, 2.20264658e+04])"
      ]
     },
     "execution_count": 16,
     "metadata": {},
     "output_type": "execute_result"
    }
   ],
   "source": [
    "np.exp(vecteur1)"
   ]
  },
  {
   "cell_type": "code",
   "execution_count": 17,
   "id": "d37e7a1a",
   "metadata": {},
   "outputs": [],
   "source": [
    "matrice1 = np.resize(np.arange(1,10),(3,3))"
   ]
  },
  {
   "cell_type": "code",
   "execution_count": 18,
   "id": "a1d10e5a",
   "metadata": {},
   "outputs": [
    {
     "data": {
      "text/plain": [
       "array([[1, 2, 3],\n",
       "       [4, 5, 6],\n",
       "       [7, 8, 9]])"
      ]
     },
     "execution_count": 18,
     "metadata": {},
     "output_type": "execute_result"
    }
   ],
   "source": [
    "matrice1"
   ]
  },
  {
   "cell_type": "code",
   "execution_count": 19,
   "id": "cf646cbd",
   "metadata": {},
   "outputs": [],
   "source": [
    "matrice2 = np.resize(np.arange(11,20),(3,3))"
   ]
  },
  {
   "cell_type": "code",
   "execution_count": 20,
   "id": "6567d93f",
   "metadata": {},
   "outputs": [
    {
     "data": {
      "text/plain": [
       "array([[11, 12, 13],\n",
       "       [14, 15, 16],\n",
       "       [17, 18, 19]])"
      ]
     },
     "execution_count": 20,
     "metadata": {},
     "output_type": "execute_result"
    }
   ],
   "source": [
    "matrice2"
   ]
  },
  {
   "cell_type": "code",
   "execution_count": 21,
   "id": "fe5efc4b",
   "metadata": {},
   "outputs": [
    {
     "data": {
      "text/plain": [
       "array([[12, 14, 16],\n",
       "       [18, 20, 22],\n",
       "       [24, 26, 28]])"
      ]
     },
     "execution_count": 21,
     "metadata": {},
     "output_type": "execute_result"
    }
   ],
   "source": [
    "matrice1 + matrice2"
   ]
  },
  {
   "cell_type": "code",
   "execution_count": 22,
   "id": "140f78de",
   "metadata": {},
   "outputs": [],
   "source": [
    "produit_matrice = np.dot(matrice1, matrice2)"
   ]
  },
  {
   "cell_type": "code",
   "execution_count": 23,
   "id": "79e2b72f",
   "metadata": {},
   "outputs": [
    {
     "data": {
      "text/plain": [
       "array([[ 90,  96, 102],\n",
       "       [216, 231, 246],\n",
       "       [342, 366, 390]])"
      ]
     },
     "execution_count": 23,
     "metadata": {},
     "output_type": "execute_result"
    }
   ],
   "source": [
    "produit_matrice"
   ]
  },
  {
   "cell_type": "code",
   "execution_count": 24,
   "id": "899c148b",
   "metadata": {},
   "outputs": [
    {
     "data": {
      "text/plain": [
       "array([[ 11,  24,  39],\n",
       "       [ 56,  75,  96],\n",
       "       [119, 144, 171]])"
      ]
     },
     "execution_count": 24,
     "metadata": {},
     "output_type": "execute_result"
    }
   ],
   "source": [
    "matrice1 * matrice2"
   ]
  },
  {
   "cell_type": "code",
   "execution_count": 25,
   "id": "463a67d9",
   "metadata": {},
   "outputs": [
    {
     "data": {
      "text/plain": [
       "array([[1, 2, 3],\n",
       "       [4, 5, 6],\n",
       "       [7, 8, 9]])"
      ]
     },
     "execution_count": 25,
     "metadata": {},
     "output_type": "execute_result"
    }
   ],
   "source": [
    "matrice1"
   ]
  },
  {
   "cell_type": "code",
   "execution_count": 26,
   "id": "97acafbc",
   "metadata": {},
   "outputs": [],
   "source": [
    "matrice_transpose = np.transpose(matrice1)"
   ]
  },
  {
   "cell_type": "code",
   "execution_count": 27,
   "id": "5ce2a49f",
   "metadata": {},
   "outputs": [
    {
     "data": {
      "text/plain": [
       "array([[1, 4, 7],\n",
       "       [2, 5, 8],\n",
       "       [3, 6, 9]])"
      ]
     },
     "execution_count": 27,
     "metadata": {},
     "output_type": "execute_result"
    }
   ],
   "source": [
    "matrice_transpose"
   ]
  },
  {
   "cell_type": "code",
   "execution_count": 28,
   "id": "d6e153b0",
   "metadata": {},
   "outputs": [
    {
     "data": {
      "text/plain": [
       "array([[1, 2, 3],\n",
       "       [4, 5, 6],\n",
       "       [7, 8, 9]])"
      ]
     },
     "execution_count": 28,
     "metadata": {},
     "output_type": "execute_result"
    }
   ],
   "source": [
    "matrice1"
   ]
  },
  {
   "cell_type": "code",
   "execution_count": 29,
   "id": "f9838386",
   "metadata": {},
   "outputs": [],
   "source": [
    "matrice_inv = np.linalg.inv(matrice1)"
   ]
  },
  {
   "cell_type": "code",
   "execution_count": 30,
   "id": "2bc318ce",
   "metadata": {},
   "outputs": [
    {
     "data": {
      "text/plain": [
       "array([[ 3.15251974e+15, -6.30503948e+15,  3.15251974e+15],\n",
       "       [-6.30503948e+15,  1.26100790e+16, -6.30503948e+15],\n",
       "       [ 3.15251974e+15, -6.30503948e+15,  3.15251974e+15]])"
      ]
     },
     "execution_count": 30,
     "metadata": {},
     "output_type": "execute_result"
    }
   ],
   "source": [
    "matrice_inv"
   ]
  },
  {
   "cell_type": "code",
   "execution_count": 31,
   "id": "00c64157",
   "metadata": {},
   "outputs": [],
   "source": [
    "det_matrice = np.linalg.det(matrice1)"
   ]
  },
  {
   "cell_type": "code",
   "execution_count": 32,
   "id": "a57a7207",
   "metadata": {},
   "outputs": [
    {
     "data": {
      "text/plain": [
       "-9.51619735392994e-16"
      ]
     },
     "execution_count": 32,
     "metadata": {},
     "output_type": "execute_result"
    }
   ],
   "source": [
    "det_matrice"
   ]
  },
  {
   "cell_type": "code",
   "execution_count": 33,
   "id": "25cf90c9",
   "metadata": {},
   "outputs": [],
   "source": [
    "propre_matrice = np.linalg.eig(matrice1)"
   ]
  },
  {
   "cell_type": "code",
   "execution_count": 34,
   "id": "ae77ee73",
   "metadata": {},
   "outputs": [
    {
     "data": {
      "text/plain": [
       "(array([ 1.61168440e+01, -1.11684397e+00, -3.38433605e-16]),\n",
       " array([[-0.23197069, -0.78583024,  0.40824829],\n",
       "        [-0.52532209, -0.08675134, -0.81649658],\n",
       "        [-0.8186735 ,  0.61232756,  0.40824829]]))"
      ]
     },
     "execution_count": 34,
     "metadata": {},
     "output_type": "execute_result"
    }
   ],
   "source": [
    "propre_matrice"
   ]
  },
  {
   "cell_type": "code",
   "execution_count": null,
   "id": "12b45099",
   "metadata": {},
   "outputs": [],
   "source": []
  }
 ],
 "metadata": {
  "kernelspec": {
   "display_name": "Python 3 (ipykernel)",
   "language": "python",
   "name": "python3"
  },
  "language_info": {
   "codemirror_mode": {
    "name": "ipython",
    "version": 3
   },
   "file_extension": ".py",
   "mimetype": "text/x-python",
   "name": "python",
   "nbconvert_exporter": "python",
   "pygments_lexer": "ipython3",
   "version": "3.9.12"
  }
 },
 "nbformat": 4,
 "nbformat_minor": 5
}
