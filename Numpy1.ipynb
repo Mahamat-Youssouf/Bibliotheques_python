{
 "cells": [
  {
   "cell_type": "markdown",
   "id": "e00077fb",
   "metadata": {},
   "source": [
    "# Création de vecteurs à partir de listes"
   ]
  },
  {
   "cell_type": "code",
   "execution_count": 1,
   "id": "a653631a",
   "metadata": {},
   "outputs": [],
   "source": [
    "my_list = [1,2,3]"
   ]
  },
  {
   "cell_type": "code",
   "execution_count": 2,
   "id": "91213de3",
   "metadata": {},
   "outputs": [
    {
     "data": {
      "text/plain": [
       "[1, 2, 3]"
      ]
     },
     "execution_count": 2,
     "metadata": {},
     "output_type": "execute_result"
    }
   ],
   "source": [
    "my_list"
   ]
  },
  {
   "cell_type": "code",
   "execution_count": 3,
   "id": "a9e31b12",
   "metadata": {},
   "outputs": [],
   "source": [
    "import numpy as np"
   ]
  },
  {
   "cell_type": "code",
   "execution_count": 4,
   "id": "c3ec7d88",
   "metadata": {},
   "outputs": [
    {
     "data": {
      "text/plain": [
       "array([1, 2, 3])"
      ]
     },
     "execution_count": 4,
     "metadata": {},
     "output_type": "execute_result"
    }
   ],
   "source": [
    "np.array(my_list)"
   ]
  },
  {
   "cell_type": "code",
   "execution_count": 5,
   "id": "2eda2b9e",
   "metadata": {},
   "outputs": [],
   "source": [
    "tab = np.array(my_list)"
   ]
  },
  {
   "cell_type": "code",
   "execution_count": 6,
   "id": "8016236a",
   "metadata": {},
   "outputs": [
    {
     "data": {
      "text/plain": [
       "array([1, 2, 3])"
      ]
     },
     "execution_count": 6,
     "metadata": {},
     "output_type": "execute_result"
    }
   ],
   "source": [
    "tab"
   ]
  },
  {
   "cell_type": "code",
   "execution_count": 7,
   "id": "fea31218",
   "metadata": {},
   "outputs": [
    {
     "data": {
      "text/plain": [
       "numpy.ndarray"
      ]
     },
     "execution_count": 7,
     "metadata": {},
     "output_type": "execute_result"
    }
   ],
   "source": [
    "type(tab)"
   ]
  },
  {
   "cell_type": "code",
   "execution_count": 8,
   "id": "b4a99e06",
   "metadata": {},
   "outputs": [],
   "source": [
    "liste1 = [1,2, \"Amine\"]"
   ]
  },
  {
   "cell_type": "code",
   "execution_count": 9,
   "id": "580addc5",
   "metadata": {},
   "outputs": [
    {
     "data": {
      "text/plain": [
       "[1, 2, 'Amine']"
      ]
     },
     "execution_count": 9,
     "metadata": {},
     "output_type": "execute_result"
    }
   ],
   "source": [
    "liste1"
   ]
  },
  {
   "cell_type": "code",
   "execution_count": 10,
   "id": "7b10e939",
   "metadata": {},
   "outputs": [],
   "source": [
    "tab1 = np.array(liste1)"
   ]
  },
  {
   "cell_type": "code",
   "execution_count": 11,
   "id": "51741558",
   "metadata": {},
   "outputs": [
    {
     "data": {
      "text/plain": [
       "array(['1', '2', 'Amine'], dtype='<U11')"
      ]
     },
     "execution_count": 11,
     "metadata": {},
     "output_type": "execute_result"
    }
   ],
   "source": [
    "tab1"
   ]
  },
  {
   "cell_type": "code",
   "execution_count": 12,
   "id": "5287cb52",
   "metadata": {},
   "outputs": [],
   "source": [
    "liste2 = [1,2, 3.6, 5.89, 10]"
   ]
  },
  {
   "cell_type": "code",
   "execution_count": 13,
   "id": "90eddfb3",
   "metadata": {},
   "outputs": [],
   "source": [
    "tab2 = np.array(liste2)"
   ]
  },
  {
   "cell_type": "code",
   "execution_count": 14,
   "id": "908908ec",
   "metadata": {},
   "outputs": [
    {
     "data": {
      "text/plain": [
       "array([ 1.  ,  2.  ,  3.6 ,  5.89, 10.  ])"
      ]
     },
     "execution_count": 14,
     "metadata": {},
     "output_type": "execute_result"
    }
   ],
   "source": [
    "tab2"
   ]
  },
  {
   "cell_type": "markdown",
   "id": "223bcf76",
   "metadata": {},
   "source": [
    "# Création de matrices : tableaux bidimensionnels"
   ]
  },
  {
   "cell_type": "code",
   "execution_count": 15,
   "id": "7018692c",
   "metadata": {},
   "outputs": [],
   "source": [
    "liste_listes = [[1,2,3], [4,5,6],[7,8,9]]"
   ]
  },
  {
   "cell_type": "code",
   "execution_count": 16,
   "id": "75df01b9",
   "metadata": {},
   "outputs": [
    {
     "data": {
      "text/plain": [
       "[[1, 2, 3], [4, 5, 6], [7, 8, 9]]"
      ]
     },
     "execution_count": 16,
     "metadata": {},
     "output_type": "execute_result"
    }
   ],
   "source": [
    "liste_listes"
   ]
  },
  {
   "cell_type": "code",
   "execution_count": 17,
   "id": "462ce0ca",
   "metadata": {},
   "outputs": [],
   "source": [
    "matrice1=np.array(liste_listes)"
   ]
  },
  {
   "cell_type": "code",
   "execution_count": 18,
   "id": "5d67759b",
   "metadata": {},
   "outputs": [
    {
     "data": {
      "text/plain": [
       "array([[1, 2, 3],\n",
       "       [4, 5, 6],\n",
       "       [7, 8, 9]])"
      ]
     },
     "execution_count": 18,
     "metadata": {},
     "output_type": "execute_result"
    }
   ],
   "source": [
    "matrice1"
   ]
  },
  {
   "cell_type": "code",
   "execution_count": 19,
   "id": "7d7bfe68",
   "metadata": {},
   "outputs": [],
   "source": [
    "liste_listes2 = [[1,2], [3,4],[5,6]]"
   ]
  },
  {
   "cell_type": "code",
   "execution_count": 20,
   "id": "3a957b83",
   "metadata": {},
   "outputs": [
    {
     "data": {
      "text/plain": [
       "[[1, 2], [3, 4], [5, 6]]"
      ]
     },
     "execution_count": 20,
     "metadata": {},
     "output_type": "execute_result"
    }
   ],
   "source": [
    "liste_listes2"
   ]
  },
  {
   "cell_type": "code",
   "execution_count": 21,
   "id": "9458da47",
   "metadata": {},
   "outputs": [],
   "source": [
    "matrice2 = np.array(liste_listes2)"
   ]
  },
  {
   "cell_type": "code",
   "execution_count": 22,
   "id": "dbafdf15",
   "metadata": {},
   "outputs": [
    {
     "data": {
      "text/plain": [
       "array([[1, 2],\n",
       "       [3, 4],\n",
       "       [5, 6]])"
      ]
     },
     "execution_count": 22,
     "metadata": {},
     "output_type": "execute_result"
    }
   ],
   "source": [
    "matrice2"
   ]
  },
  {
   "cell_type": "markdown",
   "id": "eaf0439e",
   "metadata": {},
   "source": [
    "# Création de tableaux de 3 dimensions"
   ]
  },
  {
   "cell_type": "code",
   "execution_count": 23,
   "id": "e7739a1f",
   "metadata": {},
   "outputs": [],
   "source": [
    "liste_listes_listes = [[[1,2],[3,4]], [[5,6],[7,8]]]"
   ]
  },
  {
   "cell_type": "code",
   "execution_count": 24,
   "id": "1723d751",
   "metadata": {},
   "outputs": [],
   "source": [
    "tab3 = np.array(liste_listes_listes)"
   ]
  },
  {
   "cell_type": "code",
   "execution_count": 25,
   "id": "475cb591",
   "metadata": {},
   "outputs": [
    {
     "data": {
      "text/plain": [
       "array([[[1, 2],\n",
       "        [3, 4]],\n",
       "\n",
       "       [[5, 6],\n",
       "        [7, 8]]])"
      ]
     },
     "execution_count": 25,
     "metadata": {},
     "output_type": "execute_result"
    }
   ],
   "source": [
    "tab3"
   ]
  },
  {
   "cell_type": "code",
   "execution_count": 26,
   "id": "ce1eebb9",
   "metadata": {},
   "outputs": [
    {
     "data": {
      "text/plain": [
       "array([0, 1, 2, 3, 4, 5, 6, 7, 8, 9])"
      ]
     },
     "execution_count": 26,
     "metadata": {},
     "output_type": "execute_result"
    }
   ],
   "source": [
    "np.arange(10)"
   ]
  },
  {
   "cell_type": "code",
   "execution_count": 27,
   "id": "27317dea",
   "metadata": {},
   "outputs": [
    {
     "data": {
      "text/plain": [
       "array([ 0,  1,  2,  3,  4,  5,  6,  7,  8,  9, 10, 11, 12, 13, 14, 15, 16,\n",
       "       17, 18, 19, 20, 21, 22, 23, 24, 25, 26, 27, 28, 29, 30, 31, 32, 33,\n",
       "       34, 35, 36, 37, 38, 39, 40, 41, 42, 43, 44, 45, 46, 47, 48, 49, 50,\n",
       "       51, 52, 53, 54, 55, 56, 57, 58, 59, 60, 61, 62, 63, 64, 65, 66, 67,\n",
       "       68, 69, 70, 71, 72, 73, 74, 75, 76, 77, 78, 79, 80, 81, 82, 83, 84,\n",
       "       85, 86, 87, 88, 89, 90, 91, 92, 93, 94, 95, 96, 97, 98, 99])"
      ]
     },
     "execution_count": 27,
     "metadata": {},
     "output_type": "execute_result"
    }
   ],
   "source": [
    "np.arange(100)"
   ]
  },
  {
   "cell_type": "code",
   "execution_count": 28,
   "id": "0bd8187a",
   "metadata": {},
   "outputs": [
    {
     "data": {
      "text/plain": [
       "array([ 5,  7,  9, 11, 13, 15, 17, 19])"
      ]
     },
     "execution_count": 28,
     "metadata": {},
     "output_type": "execute_result"
    }
   ],
   "source": [
    "np.arange(5,20,2)"
   ]
  },
  {
   "cell_type": "code",
   "execution_count": 29,
   "id": "528403cb",
   "metadata": {},
   "outputs": [
    {
     "data": {
      "text/plain": [
       "array([ 10,  15,  20,  25,  30,  35,  40,  45,  50,  55,  60,  65,  70,\n",
       "        75,  80,  85,  90,  95, 100])"
      ]
     },
     "execution_count": 29,
     "metadata": {},
     "output_type": "execute_result"
    }
   ],
   "source": [
    "np.arange(10,101,5)"
   ]
  },
  {
   "cell_type": "code",
   "execution_count": 30,
   "id": "6ea78087",
   "metadata": {},
   "outputs": [
    {
     "data": {
      "text/plain": [
       "array([30, 28, 26, 24, 22, 20, 18, 16, 14, 12, 10])"
      ]
     },
     "execution_count": 30,
     "metadata": {},
     "output_type": "execute_result"
    }
   ],
   "source": [
    "np.arange(30,9,-2)"
   ]
  },
  {
   "cell_type": "code",
   "execution_count": 31,
   "id": "0bfc4abb",
   "metadata": {},
   "outputs": [
    {
     "data": {
      "text/plain": [
       "array([0., 1., 2., 3., 4.])"
      ]
     },
     "execution_count": 31,
     "metadata": {},
     "output_type": "execute_result"
    }
   ],
   "source": [
    "np.arange(5.0)"
   ]
  },
  {
   "cell_type": "markdown",
   "id": "d7142f5f",
   "metadata": {},
   "source": [
    "# Principaux attributs pour décrire un objet array "
   ]
  },
  {
   "cell_type": "code",
   "execution_count": 32,
   "id": "fd355356",
   "metadata": {},
   "outputs": [],
   "source": [
    "vecteur1 = np.arange(5)"
   ]
  },
  {
   "cell_type": "code",
   "execution_count": 33,
   "id": "f725f019",
   "metadata": {},
   "outputs": [
    {
     "data": {
      "text/plain": [
       "array([0, 1, 2, 3, 4])"
      ]
     },
     "execution_count": 33,
     "metadata": {},
     "output_type": "execute_result"
    }
   ],
   "source": [
    "vecteur1"
   ]
  },
  {
   "cell_type": "code",
   "execution_count": 34,
   "id": "03b51673",
   "metadata": {},
   "outputs": [
    {
     "data": {
      "text/plain": [
       "1"
      ]
     },
     "execution_count": 34,
     "metadata": {},
     "output_type": "execute_result"
    }
   ],
   "source": [
    "vecteur1.ndim"
   ]
  },
  {
   "cell_type": "code",
   "execution_count": 35,
   "id": "3b6988fb",
   "metadata": {},
   "outputs": [
    {
     "data": {
      "text/plain": [
       "1"
      ]
     },
     "execution_count": 35,
     "metadata": {},
     "output_type": "execute_result"
    }
   ],
   "source": [
    "np.ndim(vecteur1)"
   ]
  },
  {
   "cell_type": "code",
   "execution_count": 36,
   "id": "44c3e4c5",
   "metadata": {},
   "outputs": [],
   "source": [
    "matrice1 = np.array([[0,1,2,3,4], [5,6,7,8,9],[10,11,12,13,14]])"
   ]
  },
  {
   "cell_type": "code",
   "execution_count": 37,
   "id": "8e659b58",
   "metadata": {},
   "outputs": [
    {
     "data": {
      "text/plain": [
       "array([[ 0,  1,  2,  3,  4],\n",
       "       [ 5,  6,  7,  8,  9],\n",
       "       [10, 11, 12, 13, 14]])"
      ]
     },
     "execution_count": 37,
     "metadata": {},
     "output_type": "execute_result"
    }
   ],
   "source": [
    "matrice1"
   ]
  },
  {
   "cell_type": "code",
   "execution_count": 38,
   "id": "74a2ea72",
   "metadata": {},
   "outputs": [
    {
     "data": {
      "text/plain": [
       "2"
      ]
     },
     "execution_count": 38,
     "metadata": {},
     "output_type": "execute_result"
    }
   ],
   "source": [
    "matrice1.ndim"
   ]
  },
  {
   "cell_type": "code",
   "execution_count": 39,
   "id": "1e5ce7cf",
   "metadata": {},
   "outputs": [
    {
     "data": {
      "text/plain": [
       "2"
      ]
     },
     "execution_count": 39,
     "metadata": {},
     "output_type": "execute_result"
    }
   ],
   "source": [
    "np.ndim(matrice1)"
   ]
  },
  {
   "cell_type": "code",
   "execution_count": 40,
   "id": "c2723d8c",
   "metadata": {},
   "outputs": [
    {
     "data": {
      "text/plain": [
       "(5,)"
      ]
     },
     "execution_count": 40,
     "metadata": {},
     "output_type": "execute_result"
    }
   ],
   "source": [
    "vecteur1.shape"
   ]
  },
  {
   "cell_type": "code",
   "execution_count": 41,
   "id": "801e9f52",
   "metadata": {},
   "outputs": [
    {
     "data": {
      "text/plain": [
       "(3, 5)"
      ]
     },
     "execution_count": 41,
     "metadata": {},
     "output_type": "execute_result"
    }
   ],
   "source": [
    "matrice1.shape"
   ]
  },
  {
   "cell_type": "code",
   "execution_count": 42,
   "id": "b9109192",
   "metadata": {},
   "outputs": [
    {
     "data": {
      "text/plain": [
       "(3, 5)"
      ]
     },
     "execution_count": 42,
     "metadata": {},
     "output_type": "execute_result"
    }
   ],
   "source": [
    "np.shape(matrice1)"
   ]
  },
  {
   "cell_type": "code",
   "execution_count": 43,
   "id": "26fdc578",
   "metadata": {},
   "outputs": [
    {
     "data": {
      "text/plain": [
       "5"
      ]
     },
     "execution_count": 43,
     "metadata": {},
     "output_type": "execute_result"
    }
   ],
   "source": [
    "vecteur1.size"
   ]
  },
  {
   "cell_type": "code",
   "execution_count": 44,
   "id": "185bf64c",
   "metadata": {},
   "outputs": [
    {
     "data": {
      "text/plain": [
       "5"
      ]
     },
     "execution_count": 44,
     "metadata": {},
     "output_type": "execute_result"
    }
   ],
   "source": [
    "np.size(vecteur1)"
   ]
  },
  {
   "cell_type": "code",
   "execution_count": 45,
   "id": "7e803c13",
   "metadata": {},
   "outputs": [
    {
     "data": {
      "text/plain": [
       "15"
      ]
     },
     "execution_count": 45,
     "metadata": {},
     "output_type": "execute_result"
    }
   ],
   "source": [
    "np.size(matrice1)"
   ]
  },
  {
   "cell_type": "code",
   "execution_count": 46,
   "id": "44e5f923",
   "metadata": {},
   "outputs": [
    {
     "data": {
      "text/plain": [
       "15"
      ]
     },
     "execution_count": 46,
     "metadata": {},
     "output_type": "execute_result"
    }
   ],
   "source": [
    "matrice1.size"
   ]
  },
  {
   "cell_type": "markdown",
   "id": "a9e19176",
   "metadata": {},
   "source": [
    "# La méthode reshape()"
   ]
  },
  {
   "cell_type": "code",
   "execution_count": 47,
   "id": "45981431",
   "metadata": {},
   "outputs": [],
   "source": [
    "a = np.arange(12)"
   ]
  },
  {
   "cell_type": "code",
   "execution_count": 48,
   "id": "9c7cec7f",
   "metadata": {},
   "outputs": [
    {
     "data": {
      "text/plain": [
       "array([ 0,  1,  2,  3,  4,  5,  6,  7,  8,  9, 10, 11])"
      ]
     },
     "execution_count": 48,
     "metadata": {},
     "output_type": "execute_result"
    }
   ],
   "source": [
    "a"
   ]
  },
  {
   "cell_type": "code",
   "execution_count": 49,
   "id": "c0e65060",
   "metadata": {},
   "outputs": [
    {
     "data": {
      "text/plain": [
       "(12,)"
      ]
     },
     "execution_count": 49,
     "metadata": {},
     "output_type": "execute_result"
    }
   ],
   "source": [
    "a.shape"
   ]
  },
  {
   "cell_type": "code",
   "execution_count": 50,
   "id": "89004fd4",
   "metadata": {},
   "outputs": [],
   "source": [
    "b = a.reshape((3,4))"
   ]
  },
  {
   "cell_type": "code",
   "execution_count": 51,
   "id": "b724fdb5",
   "metadata": {},
   "outputs": [
    {
     "data": {
      "text/plain": [
       "array([[ 0,  1,  2,  3],\n",
       "       [ 4,  5,  6,  7],\n",
       "       [ 8,  9, 10, 11]])"
      ]
     },
     "execution_count": 51,
     "metadata": {},
     "output_type": "execute_result"
    }
   ],
   "source": [
    "b"
   ]
  },
  {
   "cell_type": "code",
   "execution_count": 52,
   "id": "9a54fbb8",
   "metadata": {},
   "outputs": [],
   "source": [
    "c = a.reshape((4,3))"
   ]
  },
  {
   "cell_type": "code",
   "execution_count": 53,
   "id": "aa3e4560",
   "metadata": {},
   "outputs": [
    {
     "data": {
      "text/plain": [
       "array([[ 0,  1,  2],\n",
       "       [ 3,  4,  5],\n",
       "       [ 6,  7,  8],\n",
       "       [ 9, 10, 11]])"
      ]
     },
     "execution_count": 53,
     "metadata": {},
     "output_type": "execute_result"
    }
   ],
   "source": [
    "c"
   ]
  },
  {
   "cell_type": "code",
   "execution_count": 54,
   "id": "93970c07",
   "metadata": {},
   "outputs": [
    {
     "data": {
      "text/plain": [
       "array([ 0,  1,  2,  3,  4,  5,  6,  7,  8,  9, 10, 11])"
      ]
     },
     "execution_count": 54,
     "metadata": {},
     "output_type": "execute_result"
    }
   ],
   "source": [
    "a"
   ]
  },
  {
   "cell_type": "code",
   "execution_count": 55,
   "id": "4f132246",
   "metadata": {},
   "outputs": [
    {
     "ename": "ValueError",
     "evalue": "cannot reshape array of size 12 into shape (2,5)",
     "output_type": "error",
     "traceback": [
      "\u001b[1;31m---------------------------------------------------------------------------\u001b[0m",
      "\u001b[1;31mValueError\u001b[0m                                Traceback (most recent call last)",
      "Input \u001b[1;32mIn [55]\u001b[0m, in \u001b[0;36m<cell line: 1>\u001b[1;34m()\u001b[0m\n\u001b[1;32m----> 1\u001b[0m d \u001b[38;5;241m=\u001b[39m \u001b[43ma\u001b[49m\u001b[38;5;241;43m.\u001b[39;49m\u001b[43mreshape\u001b[49m\u001b[43m(\u001b[49m\u001b[43m(\u001b[49m\u001b[38;5;241;43m2\u001b[39;49m\u001b[43m,\u001b[49m\u001b[38;5;241;43m5\u001b[39;49m\u001b[43m)\u001b[49m\u001b[43m)\u001b[49m\n",
      "\u001b[1;31mValueError\u001b[0m: cannot reshape array of size 12 into shape (2,5)"
     ]
    }
   ],
   "source": [
    "d = a.reshape((2,5))"
   ]
  },
  {
   "cell_type": "code",
   "execution_count": null,
   "id": "fdc395b9",
   "metadata": {},
   "outputs": [],
   "source": [
    "tab = np.arange(15)"
   ]
  },
  {
   "cell_type": "code",
   "execution_count": null,
   "id": "c0a1c58f",
   "metadata": {},
   "outputs": [],
   "source": [
    "tab"
   ]
  },
  {
   "cell_type": "code",
   "execution_count": null,
   "id": "a7f512ca",
   "metadata": {},
   "outputs": [],
   "source": [
    "tab.resize((3,5))"
   ]
  },
  {
   "cell_type": "code",
   "execution_count": null,
   "id": "ec5534ad",
   "metadata": {},
   "outputs": [],
   "source": [
    "tab"
   ]
  },
  {
   "cell_type": "code",
   "execution_count": null,
   "id": "929ff1b9",
   "metadata": {},
   "outputs": [],
   "source": [
    "tab2 = np.arange(12)"
   ]
  },
  {
   "cell_type": "code",
   "execution_count": null,
   "id": "dd9c8e29",
   "metadata": {},
   "outputs": [],
   "source": [
    "tab2"
   ]
  },
  {
   "cell_type": "code",
   "execution_count": null,
   "id": "e8ed437a",
   "metadata": {},
   "outputs": [],
   "source": [
    "tab2.resize((2,5))"
   ]
  },
  {
   "cell_type": "code",
   "execution_count": null,
   "id": "f30e4dd1",
   "metadata": {},
   "outputs": [],
   "source": [
    "tab2.resize((2,5), refcheck = False)"
   ]
  },
  {
   "cell_type": "code",
   "execution_count": null,
   "id": "f9b9cf2a",
   "metadata": {},
   "outputs": [],
   "source": [
    "tab2"
   ]
  },
  {
   "cell_type": "code",
   "execution_count": null,
   "id": "49673e08",
   "metadata": {},
   "outputs": [],
   "source": [
    "tab3 = np.arange(9)"
   ]
  },
  {
   "cell_type": "code",
   "execution_count": null,
   "id": "b6a442db",
   "metadata": {},
   "outputs": [],
   "source": [
    "tab3"
   ]
  },
  {
   "cell_type": "code",
   "execution_count": null,
   "id": "11e17d89",
   "metadata": {},
   "outputs": [],
   "source": [
    "tab3.resize((5,6), refcheck = False)"
   ]
  },
  {
   "cell_type": "code",
   "execution_count": null,
   "id": "272c9bd4",
   "metadata": {},
   "outputs": [],
   "source": [
    "tab3"
   ]
  },
  {
   "cell_type": "code",
   "execution_count": null,
   "id": "3e496e44",
   "metadata": {},
   "outputs": [],
   "source": [
    "tab4 = np.arange(9)"
   ]
  },
  {
   "cell_type": "code",
   "execution_count": null,
   "id": "27a12a3d",
   "metadata": {},
   "outputs": [],
   "source": [
    "tab4"
   ]
  },
  {
   "cell_type": "code",
   "execution_count": null,
   "id": "2f5462c0",
   "metadata": {},
   "outputs": [],
   "source": [
    "m = np.resize(tab4,(5,6))"
   ]
  },
  {
   "cell_type": "code",
   "execution_count": null,
   "id": "14a3a884",
   "metadata": {},
   "outputs": [],
   "source": [
    "m"
   ]
  },
  {
   "cell_type": "code",
   "execution_count": null,
   "id": "8e7f82ac",
   "metadata": {},
   "outputs": [],
   "source": []
  }
 ],
 "metadata": {
  "kernelspec": {
   "display_name": "Python 3 (ipykernel)",
   "language": "python",
   "name": "python3"
  },
  "language_info": {
   "codemirror_mode": {
    "name": "ipython",
    "version": 3
   },
   "file_extension": ".py",
   "mimetype": "text/x-python",
   "name": "python",
   "nbconvert_exporter": "python",
   "pygments_lexer": "ipython3",
   "version": "3.9.12"
  }
 },
 "nbformat": 4,
 "nbformat_minor": 5
}
