{
 "cells": [
  {
   "cell_type": "markdown",
   "id": "12bfe25b",
   "metadata": {},
   "source": [
    "# Concaténation de tableaux "
   ]
  },
  {
   "cell_type": "code",
   "execution_count": 1,
   "id": "c96b751f",
   "metadata": {},
   "outputs": [],
   "source": [
    "import numpy as np"
   ]
  },
  {
   "cell_type": "code",
   "execution_count": 2,
   "id": "4e82e443",
   "metadata": {},
   "outputs": [],
   "source": [
    "vecteur1 = np.array([1,2,3,4])\n",
    "vecteur2 = np.array([5,10,15,20,25,30,35,40])"
   ]
  },
  {
   "cell_type": "code",
   "execution_count": 3,
   "id": "6e3ba9f8",
   "metadata": {},
   "outputs": [],
   "source": [
    "vecteur = np.concatenate([vecteur1,vecteur2])"
   ]
  },
  {
   "cell_type": "code",
   "execution_count": 4,
   "id": "04b8f8bd",
   "metadata": {},
   "outputs": [
    {
     "data": {
      "text/plain": [
       "array([ 1,  2,  3,  4,  5, 10, 15, 20, 25, 30, 35, 40])"
      ]
     },
     "execution_count": 4,
     "metadata": {},
     "output_type": "execute_result"
    }
   ],
   "source": [
    "vecteur"
   ]
  },
  {
   "cell_type": "code",
   "execution_count": 5,
   "id": "4a1d36c5",
   "metadata": {},
   "outputs": [],
   "source": [
    "matrice1 = np.array([[1,2,3],[4,5,6]])\n",
    "matrice2 = np.array([[5,10,15],[20,25,30]])"
   ]
  },
  {
   "cell_type": "code",
   "execution_count": 6,
   "id": "bacc7372",
   "metadata": {},
   "outputs": [
    {
     "data": {
      "text/plain": [
       "array([[1, 2, 3],\n",
       "       [4, 5, 6]])"
      ]
     },
     "execution_count": 6,
     "metadata": {},
     "output_type": "execute_result"
    }
   ],
   "source": [
    "matrice1"
   ]
  },
  {
   "cell_type": "code",
   "execution_count": 7,
   "id": "7cb8fcfc",
   "metadata": {},
   "outputs": [
    {
     "data": {
      "text/plain": [
       "array([[ 5, 10, 15],\n",
       "       [20, 25, 30]])"
      ]
     },
     "execution_count": 7,
     "metadata": {},
     "output_type": "execute_result"
    }
   ],
   "source": [
    "matrice2"
   ]
  },
  {
   "cell_type": "code",
   "execution_count": 8,
   "id": "bd7c61fd",
   "metadata": {},
   "outputs": [],
   "source": [
    "matrice = np.concatenate((matrice1,matrice2), axis = 0)"
   ]
  },
  {
   "cell_type": "code",
   "execution_count": 9,
   "id": "f0d87b49",
   "metadata": {},
   "outputs": [
    {
     "data": {
      "text/plain": [
       "array([[ 1,  2,  3],\n",
       "       [ 4,  5,  6],\n",
       "       [ 5, 10, 15],\n",
       "       [20, 25, 30]])"
      ]
     },
     "execution_count": 9,
     "metadata": {},
     "output_type": "execute_result"
    }
   ],
   "source": [
    "matrice"
   ]
  },
  {
   "cell_type": "code",
   "execution_count": 10,
   "id": "e42cf008",
   "metadata": {},
   "outputs": [],
   "source": [
    "matrix = np.concatenate((matrice1,matrice2), axis = 1)"
   ]
  },
  {
   "cell_type": "code",
   "execution_count": 11,
   "id": "6a007534",
   "metadata": {},
   "outputs": [
    {
     "data": {
      "text/plain": [
       "array([[ 1,  2,  3,  5, 10, 15],\n",
       "       [ 4,  5,  6, 20, 25, 30]])"
      ]
     },
     "execution_count": 11,
     "metadata": {},
     "output_type": "execute_result"
    }
   ],
   "source": [
    "matrix"
   ]
  },
  {
   "cell_type": "markdown",
   "id": "474fa161",
   "metadata": {},
   "source": [
    "# Construction automatique des tableaux"
   ]
  },
  {
   "cell_type": "code",
   "execution_count": 12,
   "id": "0ae97e86",
   "metadata": {},
   "outputs": [
    {
     "data": {
      "text/plain": [
       "array([0., 0., 0., 0., 0.])"
      ]
     },
     "execution_count": 12,
     "metadata": {},
     "output_type": "execute_result"
    }
   ],
   "source": [
    "np.zeros(5)"
   ]
  },
  {
   "cell_type": "code",
   "execution_count": 13,
   "id": "00efd2ba",
   "metadata": {},
   "outputs": [
    {
     "data": {
      "text/plain": [
       "array([[0., 0., 0., 0., 0.],\n",
       "       [0., 0., 0., 0., 0.],\n",
       "       [0., 0., 0., 0., 0.]])"
      ]
     },
     "execution_count": 13,
     "metadata": {},
     "output_type": "execute_result"
    }
   ],
   "source": [
    "np.zeros((3,5))"
   ]
  },
  {
   "cell_type": "code",
   "execution_count": 14,
   "id": "cd2ac847",
   "metadata": {},
   "outputs": [
    {
     "data": {
      "text/plain": [
       "array([1., 1., 1., 1., 1., 1., 1., 1., 1., 1.])"
      ]
     },
     "execution_count": 14,
     "metadata": {},
     "output_type": "execute_result"
    }
   ],
   "source": [
    "np.ones(10)"
   ]
  },
  {
   "cell_type": "code",
   "execution_count": 15,
   "id": "69e5b6f6",
   "metadata": {},
   "outputs": [
    {
     "data": {
      "text/plain": [
       "array([[1., 1., 1., 1., 1., 1.],\n",
       "       [1., 1., 1., 1., 1., 1.],\n",
       "       [1., 1., 1., 1., 1., 1.],\n",
       "       [1., 1., 1., 1., 1., 1.],\n",
       "       [1., 1., 1., 1., 1., 1.]])"
      ]
     },
     "execution_count": 15,
     "metadata": {},
     "output_type": "execute_result"
    }
   ],
   "source": [
    "np.ones((5,6))"
   ]
  },
  {
   "cell_type": "code",
   "execution_count": 16,
   "id": "d51fc2e2",
   "metadata": {},
   "outputs": [
    {
     "data": {
      "text/plain": [
       "array([[1, 1, 1],\n",
       "       [1, 1, 1],\n",
       "       [1, 1, 1]])"
      ]
     },
     "execution_count": 16,
     "metadata": {},
     "output_type": "execute_result"
    }
   ],
   "source": [
    "np.ones((3,3), int)"
   ]
  },
  {
   "cell_type": "code",
   "execution_count": 17,
   "id": "b4cfc5ee",
   "metadata": {},
   "outputs": [
    {
     "data": {
      "text/plain": [
       "array([[7, 7, 7, 7, 7],\n",
       "       [7, 7, 7, 7, 7]])"
      ]
     },
     "execution_count": 17,
     "metadata": {},
     "output_type": "execute_result"
    }
   ],
   "source": [
    "np.full((2,5), 7, int)"
   ]
  },
  {
   "cell_type": "code",
   "execution_count": 18,
   "id": "86dae95b",
   "metadata": {},
   "outputs": [
    {
     "data": {
      "text/plain": [
       "array([[10., 10., 10., 10., 10.],\n",
       "       [10., 10., 10., 10., 10.],\n",
       "       [10., 10., 10., 10., 10.],\n",
       "       [10., 10., 10., 10., 10.],\n",
       "       [10., 10., 10., 10., 10.]])"
      ]
     },
     "execution_count": 18,
     "metadata": {},
     "output_type": "execute_result"
    }
   ],
   "source": [
    "np.full((5,5), 10, float)"
   ]
  },
  {
   "cell_type": "code",
   "execution_count": 19,
   "id": "f78041fe",
   "metadata": {},
   "outputs": [
    {
     "data": {
      "text/plain": [
       "array([[1., 0., 0., 0.],\n",
       "       [0., 1., 0., 0.],\n",
       "       [0., 0., 1., 0.],\n",
       "       [0., 0., 0., 1.]])"
      ]
     },
     "execution_count": 19,
     "metadata": {},
     "output_type": "execute_result"
    }
   ],
   "source": [
    "np.eye(4)"
   ]
  },
  {
   "cell_type": "code",
   "execution_count": 20,
   "id": "c04a46a9",
   "metadata": {
    "scrolled": false
   },
   "outputs": [
    {
     "data": {
      "text/plain": [
       "array([[1., 0., 0., 0., 0., 0., 0., 0., 0., 0.],\n",
       "       [0., 1., 0., 0., 0., 0., 0., 0., 0., 0.],\n",
       "       [0., 0., 1., 0., 0., 0., 0., 0., 0., 0.],\n",
       "       [0., 0., 0., 1., 0., 0., 0., 0., 0., 0.],\n",
       "       [0., 0., 0., 0., 1., 0., 0., 0., 0., 0.],\n",
       "       [0., 0., 0., 0., 0., 1., 0., 0., 0., 0.],\n",
       "       [0., 0., 0., 0., 0., 0., 1., 0., 0., 0.],\n",
       "       [0., 0., 0., 0., 0., 0., 0., 1., 0., 0.],\n",
       "       [0., 0., 0., 0., 0., 0., 0., 0., 1., 0.],\n",
       "       [0., 0., 0., 0., 0., 0., 0., 0., 0., 1.]])"
      ]
     },
     "execution_count": 20,
     "metadata": {},
     "output_type": "execute_result"
    }
   ],
   "source": [
    "np.eye(10)"
   ]
  },
  {
   "cell_type": "markdown",
   "id": "5b6bded5",
   "metadata": {},
   "source": [
    "# La focntion diag()"
   ]
  },
  {
   "cell_type": "code",
   "execution_count": 21,
   "id": "feabdb1a",
   "metadata": {},
   "outputs": [],
   "source": [
    "matrice = np.arange(1,17).reshape(4,4)"
   ]
  },
  {
   "cell_type": "code",
   "execution_count": 22,
   "id": "f7586a0f",
   "metadata": {},
   "outputs": [
    {
     "data": {
      "text/plain": [
       "array([[ 1,  2,  3,  4],\n",
       "       [ 5,  6,  7,  8],\n",
       "       [ 9, 10, 11, 12],\n",
       "       [13, 14, 15, 16]])"
      ]
     },
     "execution_count": 22,
     "metadata": {},
     "output_type": "execute_result"
    }
   ],
   "source": [
    "matrice"
   ]
  },
  {
   "cell_type": "code",
   "execution_count": 23,
   "id": "36c2817e",
   "metadata": {},
   "outputs": [
    {
     "data": {
      "text/plain": [
       "array([3, 8])"
      ]
     },
     "execution_count": 23,
     "metadata": {},
     "output_type": "execute_result"
    }
   ],
   "source": [
    "np.diag(matrice, k=2)"
   ]
  },
  {
   "cell_type": "code",
   "execution_count": 24,
   "id": "b6e87ad2",
   "metadata": {},
   "outputs": [
    {
     "data": {
      "text/plain": [
       "array([ 9, 14])"
      ]
     },
     "execution_count": 24,
     "metadata": {},
     "output_type": "execute_result"
    }
   ],
   "source": [
    "np.diag(matrice, k=-2)"
   ]
  },
  {
   "cell_type": "code",
   "execution_count": 25,
   "id": "3131e843",
   "metadata": {},
   "outputs": [],
   "source": [
    "a = np.array([5,6,7,8,9])"
   ]
  },
  {
   "cell_type": "code",
   "execution_count": 26,
   "id": "ff8266c7",
   "metadata": {},
   "outputs": [
    {
     "data": {
      "text/plain": [
       "array([5, 6, 7, 8, 9])"
      ]
     },
     "execution_count": 26,
     "metadata": {},
     "output_type": "execute_result"
    }
   ],
   "source": [
    "a"
   ]
  },
  {
   "cell_type": "code",
   "execution_count": 27,
   "id": "39623088",
   "metadata": {},
   "outputs": [],
   "source": [
    "matrice_diagonale = np.diag(a)"
   ]
  },
  {
   "cell_type": "code",
   "execution_count": 28,
   "id": "1cb691ec",
   "metadata": {},
   "outputs": [
    {
     "data": {
      "text/plain": [
       "array([[5, 0, 0, 0, 0],\n",
       "       [0, 6, 0, 0, 0],\n",
       "       [0, 0, 7, 0, 0],\n",
       "       [0, 0, 0, 8, 0],\n",
       "       [0, 0, 0, 0, 9]])"
      ]
     },
     "execution_count": 28,
     "metadata": {},
     "output_type": "execute_result"
    }
   ],
   "source": [
    "matrice_diagonale"
   ]
  },
  {
   "cell_type": "code",
   "execution_count": 29,
   "id": "54c13cd9",
   "metadata": {
    "scrolled": true
   },
   "outputs": [],
   "source": [
    "matrice_diagonale1 = np.diag(a, k=-1)"
   ]
  },
  {
   "cell_type": "code",
   "execution_count": 30,
   "id": "793e3a15",
   "metadata": {
    "scrolled": true
   },
   "outputs": [
    {
     "data": {
      "text/plain": [
       "array([[0, 0, 0, 0, 0, 0],\n",
       "       [5, 0, 0, 0, 0, 0],\n",
       "       [0, 6, 0, 0, 0, 0],\n",
       "       [0, 0, 7, 0, 0, 0],\n",
       "       [0, 0, 0, 8, 0, 0],\n",
       "       [0, 0, 0, 0, 9, 0]])"
      ]
     },
     "execution_count": 30,
     "metadata": {},
     "output_type": "execute_result"
    }
   ],
   "source": [
    "matrice_diagonale1"
   ]
  },
  {
   "cell_type": "markdown",
   "id": "47fd3bfc",
   "metadata": {},
   "source": [
    "# La fonction linspace()"
   ]
  },
  {
   "cell_type": "code",
   "execution_count": 31,
   "id": "c265a1dd",
   "metadata": {},
   "outputs": [
    {
     "data": {
      "text/plain": [
       "array([0.        , 0.55555556, 1.11111111, 1.66666667, 2.22222222,\n",
       "       2.77777778, 3.33333333, 3.88888889, 4.44444444, 5.        ])"
      ]
     },
     "execution_count": 31,
     "metadata": {},
     "output_type": "execute_result"
    }
   ],
   "source": [
    "np.linspace(0,5,10)"
   ]
  },
  {
   "cell_type": "code",
   "execution_count": 32,
   "id": "6b2622f1",
   "metadata": {},
   "outputs": [
    {
     "data": {
      "text/plain": [
       "array([0., 1., 2., 3., 4., 5.])"
      ]
     },
     "execution_count": 32,
     "metadata": {},
     "output_type": "execute_result"
    }
   ],
   "source": [
    "np.linspace(0,5,6)"
   ]
  },
  {
   "cell_type": "code",
   "execution_count": 33,
   "id": "56e1c5e8",
   "metadata": {},
   "outputs": [
    {
     "data": {
      "text/plain": [
       "array([0.        , 0.05050505, 0.1010101 , 0.15151515, 0.2020202 ,\n",
       "       0.25252525, 0.3030303 , 0.35353535, 0.4040404 , 0.45454545,\n",
       "       0.50505051, 0.55555556, 0.60606061, 0.65656566, 0.70707071,\n",
       "       0.75757576, 0.80808081, 0.85858586, 0.90909091, 0.95959596,\n",
       "       1.01010101, 1.06060606, 1.11111111, 1.16161616, 1.21212121,\n",
       "       1.26262626, 1.31313131, 1.36363636, 1.41414141, 1.46464646,\n",
       "       1.51515152, 1.56565657, 1.61616162, 1.66666667, 1.71717172,\n",
       "       1.76767677, 1.81818182, 1.86868687, 1.91919192, 1.96969697,\n",
       "       2.02020202, 2.07070707, 2.12121212, 2.17171717, 2.22222222,\n",
       "       2.27272727, 2.32323232, 2.37373737, 2.42424242, 2.47474747,\n",
       "       2.52525253, 2.57575758, 2.62626263, 2.67676768, 2.72727273,\n",
       "       2.77777778, 2.82828283, 2.87878788, 2.92929293, 2.97979798,\n",
       "       3.03030303, 3.08080808, 3.13131313, 3.18181818, 3.23232323,\n",
       "       3.28282828, 3.33333333, 3.38383838, 3.43434343, 3.48484848,\n",
       "       3.53535354, 3.58585859, 3.63636364, 3.68686869, 3.73737374,\n",
       "       3.78787879, 3.83838384, 3.88888889, 3.93939394, 3.98989899,\n",
       "       4.04040404, 4.09090909, 4.14141414, 4.19191919, 4.24242424,\n",
       "       4.29292929, 4.34343434, 4.39393939, 4.44444444, 4.49494949,\n",
       "       4.54545455, 4.5959596 , 4.64646465, 4.6969697 , 4.74747475,\n",
       "       4.7979798 , 4.84848485, 4.8989899 , 4.94949495, 5.        ])"
      ]
     },
     "execution_count": 33,
     "metadata": {},
     "output_type": "execute_result"
    }
   ],
   "source": [
    "np.linspace(0,5,100)"
   ]
  },
  {
   "cell_type": "code",
   "execution_count": 34,
   "id": "88aae6f0",
   "metadata": {},
   "outputs": [
    {
     "data": {
      "text/plain": [
       "array([ 0,  2,  4,  6,  8, 10, 12, 14, 16, 18, 20, 22, 24, 26, 28, 30, 32,\n",
       "       34, 36, 38, 40, 42, 44, 46, 48, 50, 52, 54, 56, 58, 60, 62, 64, 66,\n",
       "       68, 70, 72, 74, 76, 78, 80, 82, 84, 86, 88, 90, 92, 94, 96, 98])"
      ]
     },
     "execution_count": 34,
     "metadata": {},
     "output_type": "execute_result"
    }
   ],
   "source": [
    "np.arange(0,100,2)"
   ]
  },
  {
   "cell_type": "markdown",
   "id": "907e944d",
   "metadata": {},
   "source": [
    "# Création de tableaux aléatoires "
   ]
  },
  {
   "cell_type": "code",
   "execution_count": 35,
   "id": "c015d538",
   "metadata": {},
   "outputs": [
    {
     "data": {
      "text/plain": [
       "array([[0.99077115, 0.6617098 , 0.50664176, 0.34485078],\n",
       "       [0.40330806, 0.92549545, 0.37323298, 0.87949804],\n",
       "       [0.23049136, 0.55140761, 0.489951  , 0.29015292]])"
      ]
     },
     "execution_count": 35,
     "metadata": {},
     "output_type": "execute_result"
    }
   ],
   "source": [
    "np.random.rand(10)\n",
    "\n",
    "np.random.rand(3,4)"
   ]
  },
  {
   "cell_type": "code",
   "execution_count": 36,
   "id": "1192b4ae",
   "metadata": {},
   "outputs": [
    {
     "data": {
      "text/plain": [
       "array([ 0.08079909, -0.139193  ,  0.32080075,  0.67212773, -0.20481112,\n",
       "        0.82372874])"
      ]
     },
     "execution_count": 36,
     "metadata": {},
     "output_type": "execute_result"
    }
   ],
   "source": [
    "np.random.randn(6)"
   ]
  },
  {
   "cell_type": "code",
   "execution_count": 37,
   "id": "3ad5a064",
   "metadata": {},
   "outputs": [
    {
     "data": {
      "text/plain": [
       "array([[ 0.76352385,  0.81721515,  1.14175256,  0.49012135],\n",
       "       [-2.17551032,  0.17315892,  0.59204202,  0.50342752],\n",
       "       [ 0.55599196, -0.33388072, -0.65831698,  1.29535744],\n",
       "       [-1.21345585, -0.12705557,  0.48894118,  1.07956704]])"
      ]
     },
     "execution_count": 37,
     "metadata": {},
     "output_type": "execute_result"
    }
   ],
   "source": [
    "np.random.randn(4,4)"
   ]
  },
  {
   "cell_type": "code",
   "execution_count": 38,
   "id": "9cc44c65",
   "metadata": {},
   "outputs": [
    {
     "data": {
      "text/plain": [
       "array([24, 89, 31,  9, 64, 15, 41, 60, 98, 63, 77, 87, 51, 63, 75, 18, 54,\n",
       "       20, 82, 45])"
      ]
     },
     "execution_count": 38,
     "metadata": {},
     "output_type": "execute_result"
    }
   ],
   "source": [
    "np.random.randint(1,100, 20)"
   ]
  },
  {
   "cell_type": "code",
   "execution_count": 39,
   "id": "f417eed3",
   "metadata": {},
   "outputs": [],
   "source": [
    "matrice = np.random.randint(0,20,(3,4))"
   ]
  },
  {
   "cell_type": "code",
   "execution_count": 40,
   "id": "7ca59651",
   "metadata": {},
   "outputs": [
    {
     "data": {
      "text/plain": [
       "array([[ 0,  4,  9,  2],\n",
       "       [18, 19, 17, 16],\n",
       "       [13, 11, 10,  1]])"
      ]
     },
     "execution_count": 40,
     "metadata": {},
     "output_type": "execute_result"
    }
   ],
   "source": [
    "matrice"
   ]
  },
  {
   "cell_type": "code",
   "execution_count": 41,
   "id": "cdb71838",
   "metadata": {},
   "outputs": [],
   "source": [
    "x = np.random.normal(loc = 10, scale = 2, size=(3,4))"
   ]
  },
  {
   "cell_type": "code",
   "execution_count": 42,
   "id": "688cdfe7",
   "metadata": {},
   "outputs": [
    {
     "data": {
      "text/plain": [
       "array([[13.52120034,  8.46072794, 12.33158199, 10.7238502 ],\n",
       "       [10.78100052,  9.21534867,  5.51663475, 10.12711813],\n",
       "       [ 8.63674874, 10.30399835,  9.08671714,  8.84879906]])"
      ]
     },
     "execution_count": 42,
     "metadata": {},
     "output_type": "execute_result"
    }
   ],
   "source": [
    "x"
   ]
  },
  {
   "cell_type": "code",
   "execution_count": 43,
   "id": "ba8b2600",
   "metadata": {},
   "outputs": [
    {
     "data": {
      "text/plain": [
       "array([[13.57336945,  8.37167503,  1.57623368, 19.48274989, 12.63571588],\n",
       "       [19.14814775, 12.78383415, 16.47281884, 14.77968293, 12.00044204],\n",
       "       [11.2395113 , 26.67163832, 16.4365813 ,  9.53143894, 19.99810448],\n",
       "       [22.12127514, 20.94981699, 15.99307521, 12.14734308,  5.49823567],\n",
       "       [20.15064516, 12.0669008 , 19.07404812,  7.48852306, 10.18425784]])"
      ]
     },
     "execution_count": 43,
     "metadata": {},
     "output_type": "execute_result"
    }
   ],
   "source": [
    "np.random.normal(15, 5, (5,5))"
   ]
  },
  {
   "cell_type": "code",
   "execution_count": 44,
   "id": "0bc6c5bd",
   "metadata": {},
   "outputs": [
    {
     "data": {
      "text/plain": [
       "array([22.56078618, 19.57222018, 24.20955799, 21.26076898, 18.6245558 ])"
      ]
     },
     "execution_count": 44,
     "metadata": {},
     "output_type": "execute_result"
    }
   ],
   "source": [
    "np.random.normal(20,2,5)"
   ]
  },
  {
   "cell_type": "code",
   "execution_count": null,
   "id": "2ac5dc77",
   "metadata": {},
   "outputs": [],
   "source": []
  },
  {
   "cell_type": "code",
   "execution_count": null,
   "id": "cfaf0d09",
   "metadata": {},
   "outputs": [],
   "source": []
  }
 ],
 "metadata": {
  "kernelspec": {
   "display_name": "Python 3 (ipykernel)",
   "language": "python",
   "name": "python3"
  },
  "language_info": {
   "codemirror_mode": {
    "name": "ipython",
    "version": 3
   },
   "file_extension": ".py",
   "mimetype": "text/x-python",
   "name": "python",
   "nbconvert_exporter": "python",
   "pygments_lexer": "ipython3",
   "version": "3.9.12"
  }
 },
 "nbformat": 4,
 "nbformat_minor": 5
}
