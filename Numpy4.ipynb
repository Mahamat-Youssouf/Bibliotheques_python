{
 "cells": [
  {
   "cell_type": "markdown",
   "id": "479da03f",
   "metadata": {},
   "source": [
    "# L'indexation"
   ]
  },
  {
   "cell_type": "code",
   "execution_count": 1,
   "id": "839de6d3",
   "metadata": {},
   "outputs": [],
   "source": [
    "import numpy as np"
   ]
  },
  {
   "cell_type": "code",
   "execution_count": 2,
   "id": "74c243b9",
   "metadata": {},
   "outputs": [],
   "source": [
    "arr = np.random.randint(0,100,40)"
   ]
  },
  {
   "cell_type": "code",
   "execution_count": 3,
   "id": "ff65d29c",
   "metadata": {},
   "outputs": [
    {
     "data": {
      "text/plain": [
       "array([41, 56, 46, 16, 36, 16, 55, 55, 50, 23, 66,  9, 67, 32, 58, 96, 53,\n",
       "        1, 97,  1, 75, 62, 84, 88, 37, 61, 13, 77, 94, 81, 73, 90, 16, 66,\n",
       "       64, 44,  2, 74, 53, 89])"
      ]
     },
     "execution_count": 3,
     "metadata": {},
     "output_type": "execute_result"
    }
   ],
   "source": [
    "arr"
   ]
  },
  {
   "cell_type": "code",
   "execution_count": 4,
   "id": "14142f0a",
   "metadata": {},
   "outputs": [
    {
     "data": {
      "text/plain": [
       "50"
      ]
     },
     "execution_count": 4,
     "metadata": {},
     "output_type": "execute_result"
    }
   ],
   "source": [
    "arr[8]"
   ]
  },
  {
   "cell_type": "code",
   "execution_count": 5,
   "id": "d734459f",
   "metadata": {},
   "outputs": [
    {
     "data": {
      "text/plain": [
       "41"
      ]
     },
     "execution_count": 5,
     "metadata": {},
     "output_type": "execute_result"
    }
   ],
   "source": [
    "arr[0]"
   ]
  },
  {
   "cell_type": "code",
   "execution_count": 6,
   "id": "3f8fd6e9",
   "metadata": {},
   "outputs": [
    {
     "ename": "IndexError",
     "evalue": "index 51 is out of bounds for axis 0 with size 40",
     "output_type": "error",
     "traceback": [
      "\u001b[1;31m---------------------------------------------------------------------------\u001b[0m",
      "\u001b[1;31mIndexError\u001b[0m                                Traceback (most recent call last)",
      "Input \u001b[1;32mIn [6]\u001b[0m, in \u001b[0;36m<cell line: 1>\u001b[1;34m()\u001b[0m\n\u001b[1;32m----> 1\u001b[0m \u001b[43marr\u001b[49m\u001b[43m[\u001b[49m\u001b[38;5;241;43m51\u001b[39;49m\u001b[43m]\u001b[49m\n",
      "\u001b[1;31mIndexError\u001b[0m: index 51 is out of bounds for axis 0 with size 40"
     ]
    }
   ],
   "source": [
    "arr[51]"
   ]
  },
  {
   "cell_type": "code",
   "execution_count": null,
   "id": "088594c4",
   "metadata": {},
   "outputs": [],
   "source": [
    "arr[1:5]"
   ]
  },
  {
   "cell_type": "code",
   "execution_count": null,
   "id": "5ede0add",
   "metadata": {},
   "outputs": [],
   "source": [
    "arr[0:10]"
   ]
  },
  {
   "cell_type": "code",
   "execution_count": null,
   "id": "29275285",
   "metadata": {},
   "outputs": [],
   "source": [
    "arr[:10]"
   ]
  },
  {
   "cell_type": "code",
   "execution_count": null,
   "id": "d5b6f009",
   "metadata": {},
   "outputs": [],
   "source": [
    "arr[:5] = 100"
   ]
  },
  {
   "cell_type": "code",
   "execution_count": null,
   "id": "78491e5a",
   "metadata": {},
   "outputs": [],
   "source": [
    "arr"
   ]
  },
  {
   "cell_type": "code",
   "execution_count": null,
   "id": "646523cc",
   "metadata": {},
   "outputs": [],
   "source": [
    "arr1 = arr[0:10]"
   ]
  },
  {
   "cell_type": "code",
   "execution_count": null,
   "id": "3ea1eb6d",
   "metadata": {},
   "outputs": [],
   "source": [
    "arr1"
   ]
  },
  {
   "cell_type": "code",
   "execution_count": null,
   "id": "a4a2ed8e",
   "metadata": {},
   "outputs": [],
   "source": [
    "arr1[:] = 99"
   ]
  },
  {
   "cell_type": "code",
   "execution_count": null,
   "id": "8b87251b",
   "metadata": {},
   "outputs": [],
   "source": [
    "arr1"
   ]
  },
  {
   "cell_type": "code",
   "execution_count": null,
   "id": "e19e6c0a",
   "metadata": {},
   "outputs": [],
   "source": [
    "arr"
   ]
  },
  {
   "cell_type": "code",
   "execution_count": null,
   "id": "4c6a11fb",
   "metadata": {},
   "outputs": [],
   "source": [
    "arr"
   ]
  },
  {
   "cell_type": "code",
   "execution_count": null,
   "id": "bc124eb2",
   "metadata": {},
   "outputs": [],
   "source": [
    "arr2 = arr[0:20]"
   ]
  },
  {
   "cell_type": "code",
   "execution_count": null,
   "id": "8960911d",
   "metadata": {},
   "outputs": [],
   "source": [
    "arr2"
   ]
  },
  {
   "cell_type": "code",
   "execution_count": null,
   "id": "5b9ca364",
   "metadata": {},
   "outputs": [],
   "source": [
    "arr2_copy = arr2.copy()"
   ]
  },
  {
   "cell_type": "code",
   "execution_count": null,
   "id": "519ef213",
   "metadata": {},
   "outputs": [],
   "source": [
    "arr2_copy"
   ]
  },
  {
   "cell_type": "code",
   "execution_count": null,
   "id": "3a8df4d2",
   "metadata": {},
   "outputs": [],
   "source": [
    "arr2_copy[:] = 200"
   ]
  },
  {
   "cell_type": "code",
   "execution_count": null,
   "id": "48c15be0",
   "metadata": {},
   "outputs": [],
   "source": [
    "arr2_copy"
   ]
  },
  {
   "cell_type": "code",
   "execution_count": null,
   "id": "1dbe138d",
   "metadata": {},
   "outputs": [],
   "source": [
    "arr2"
   ]
  },
  {
   "cell_type": "markdown",
   "id": "b8a26682",
   "metadata": {},
   "source": [
    "# Indexation dans les tableaux bidimentionnels"
   ]
  },
  {
   "cell_type": "code",
   "execution_count": null,
   "id": "8f3615f0",
   "metadata": {},
   "outputs": [],
   "source": [
    "matrice = np.array([[5,10,15],[20,25,30],[35,40,45]])"
   ]
  },
  {
   "cell_type": "code",
   "execution_count": null,
   "id": "42bf4196",
   "metadata": {},
   "outputs": [],
   "source": [
    "matrice"
   ]
  },
  {
   "cell_type": "code",
   "execution_count": null,
   "id": "3cc74d2e",
   "metadata": {},
   "outputs": [],
   "source": [
    "matrice[0,0]"
   ]
  },
  {
   "cell_type": "code",
   "execution_count": null,
   "id": "4df122cf",
   "metadata": {},
   "outputs": [],
   "source": [
    "matrice[1,2]"
   ]
  },
  {
   "cell_type": "code",
   "execution_count": null,
   "id": "3def8165",
   "metadata": {},
   "outputs": [],
   "source": [
    "matrice[1][2]"
   ]
  },
  {
   "cell_type": "code",
   "execution_count": null,
   "id": "c6d833d8",
   "metadata": {},
   "outputs": [],
   "source": [
    "matrice[0]"
   ]
  },
  {
   "cell_type": "code",
   "execution_count": null,
   "id": "97d527e0",
   "metadata": {},
   "outputs": [],
   "source": [
    "matrice[1]"
   ]
  },
  {
   "cell_type": "code",
   "execution_count": null,
   "id": "4180c8b3",
   "metadata": {},
   "outputs": [],
   "source": [
    "matrice[2,:]"
   ]
  },
  {
   "cell_type": "code",
   "execution_count": null,
   "id": "39317a8b",
   "metadata": {},
   "outputs": [],
   "source": [
    "matrice[2]"
   ]
  },
  {
   "cell_type": "code",
   "execution_count": null,
   "id": "8c98c931",
   "metadata": {},
   "outputs": [],
   "source": [
    "matrice[:2]"
   ]
  },
  {
   "cell_type": "code",
   "execution_count": null,
   "id": "4d0551e6",
   "metadata": {},
   "outputs": [],
   "source": [
    "matrice[1:]"
   ]
  },
  {
   "cell_type": "code",
   "execution_count": null,
   "id": "5a1fb61e",
   "metadata": {},
   "outputs": [],
   "source": [
    "matrice[:,0]"
   ]
  },
  {
   "cell_type": "code",
   "execution_count": null,
   "id": "1f1ff419",
   "metadata": {},
   "outputs": [],
   "source": [
    "matrice[:,1]"
   ]
  },
  {
   "cell_type": "code",
   "execution_count": null,
   "id": "7944c68d",
   "metadata": {},
   "outputs": [],
   "source": [
    "matrice[0:2,1:]"
   ]
  },
  {
   "cell_type": "code",
   "execution_count": null,
   "id": "bd5f6630",
   "metadata": {},
   "outputs": [],
   "source": [
    "matrice[2,0:2]"
   ]
  },
  {
   "cell_type": "markdown",
   "id": "3323eb27",
   "metadata": {},
   "source": [
    "# Tableaux et opérateurs de comparaison"
   ]
  },
  {
   "cell_type": "code",
   "execution_count": null,
   "id": "4097f0f6",
   "metadata": {},
   "outputs": [],
   "source": [
    "vecteur = np.arange(1,15)"
   ]
  },
  {
   "cell_type": "code",
   "execution_count": null,
   "id": "d41107b6",
   "metadata": {},
   "outputs": [],
   "source": [
    "vecteur"
   ]
  },
  {
   "cell_type": "code",
   "execution_count": null,
   "id": "9113008d",
   "metadata": {},
   "outputs": [],
   "source": [
    "vecteur > 10"
   ]
  },
  {
   "cell_type": "code",
   "execution_count": null,
   "id": "aa9d3ab9",
   "metadata": {},
   "outputs": [],
   "source": [
    "condition = vecteur > 10"
   ]
  },
  {
   "cell_type": "code",
   "execution_count": null,
   "id": "73a8b2e7",
   "metadata": {},
   "outputs": [],
   "source": [
    "condition"
   ]
  },
  {
   "cell_type": "code",
   "execution_count": null,
   "id": "7a10799c",
   "metadata": {},
   "outputs": [],
   "source": [
    "vecteur[condition]"
   ]
  },
  {
   "cell_type": "code",
   "execution_count": null,
   "id": "dd8f50df",
   "metadata": {},
   "outputs": [],
   "source": [
    "vecteur[vecteur > 10]"
   ]
  },
  {
   "cell_type": "code",
   "execution_count": null,
   "id": "3ea9d63f",
   "metadata": {},
   "outputs": [],
   "source": [
    "matrice1 = np.arange(30).reshape(5,6)"
   ]
  },
  {
   "cell_type": "code",
   "execution_count": null,
   "id": "ae344dc4",
   "metadata": {},
   "outputs": [],
   "source": [
    "matrice1"
   ]
  },
  {
   "cell_type": "code",
   "execution_count": null,
   "id": "faaa849b",
   "metadata": {},
   "outputs": [],
   "source": [
    "matrice1 >8"
   ]
  },
  {
   "cell_type": "code",
   "execution_count": null,
   "id": "accf38a9",
   "metadata": {},
   "outputs": [],
   "source": [
    "matrice1[matrice1 > 8]"
   ]
  },
  {
   "cell_type": "code",
   "execution_count": null,
   "id": "c606f73c",
   "metadata": {},
   "outputs": [],
   "source": [
    "matrice1[matrice1 == 15]"
   ]
  },
  {
   "cell_type": "code",
   "execution_count": null,
   "id": "0a9536a6",
   "metadata": {},
   "outputs": [],
   "source": [
    "(matrice1 > 10) & (matrice1 % 2 == 0)"
   ]
  },
  {
   "cell_type": "code",
   "execution_count": null,
   "id": "799ac4ee",
   "metadata": {},
   "outputs": [],
   "source": [
    "matrice1[(matrice1 > 10) & (matrice1 % 2 == 0)]"
   ]
  },
  {
   "cell_type": "code",
   "execution_count": null,
   "id": "bfc37ea8",
   "metadata": {},
   "outputs": [],
   "source": [
    "matrice1[(matrice1 > 15) | (matrice1 % 2 == 1)]"
   ]
  },
  {
   "cell_type": "markdown",
   "id": "3133b9dd",
   "metadata": {},
   "source": [
    "# Modification des éléments vérifiants une ou plusieurs conditions"
   ]
  },
  {
   "cell_type": "code",
   "execution_count": null,
   "id": "6164abf7",
   "metadata": {},
   "outputs": [],
   "source": [
    "matrice1"
   ]
  },
  {
   "cell_type": "code",
   "execution_count": null,
   "id": "59e16c48",
   "metadata": {},
   "outputs": [],
   "source": [
    "matrice1[matrice1 % 2 == 0]=100"
   ]
  },
  {
   "cell_type": "code",
   "execution_count": null,
   "id": "d0aa9e4a",
   "metadata": {},
   "outputs": [],
   "source": [
    "matrice1"
   ]
  },
  {
   "cell_type": "code",
   "execution_count": null,
   "id": "8e7197ef",
   "metadata": {},
   "outputs": [],
   "source": [
    "matrice1[(matrice1 < 20) & (matrice1 % 2 != 0)] = 200"
   ]
  },
  {
   "cell_type": "code",
   "execution_count": null,
   "id": "a9cb4607",
   "metadata": {},
   "outputs": [],
   "source": [
    "matrice1"
   ]
  },
  {
   "cell_type": "markdown",
   "id": "6a555925",
   "metadata": {},
   "source": [
    "# Binariser une matrice"
   ]
  },
  {
   "cell_type": "code",
   "execution_count": null,
   "id": "f7d207ff",
   "metadata": {},
   "outputs": [],
   "source": [
    "import random as rd"
   ]
  },
  {
   "cell_type": "code",
   "execution_count": null,
   "id": "f65e1117",
   "metadata": {},
   "outputs": [],
   "source": [
    "matrix = np.resize([rd.random() for i in range(25)], (5,5))"
   ]
  },
  {
   "cell_type": "code",
   "execution_count": null,
   "id": "69a3a51c",
   "metadata": {},
   "outputs": [],
   "source": [
    "matrix"
   ]
  },
  {
   "cell_type": "code",
   "execution_count": null,
   "id": "cbfdba2c",
   "metadata": {},
   "outputs": [],
   "source": [
    "seuil = 0.5"
   ]
  },
  {
   "cell_type": "code",
   "execution_count": null,
   "id": "774e2cda",
   "metadata": {},
   "outputs": [],
   "source": [
    "matrix[matrix > 0.5] = 1\n",
    "matrix[matrix <= 0.5] = 0"
   ]
  },
  {
   "cell_type": "code",
   "execution_count": null,
   "id": "5ed5af51",
   "metadata": {},
   "outputs": [],
   "source": [
    "matrix"
   ]
  },
  {
   "cell_type": "code",
   "execution_count": null,
   "id": "12335533",
   "metadata": {},
   "outputs": [],
   "source": []
  }
 ],
 "metadata": {
  "kernelspec": {
   "display_name": "Python 3 (ipykernel)",
   "language": "python",
   "name": "python3"
  },
  "language_info": {
   "codemirror_mode": {
    "name": "ipython",
    "version": 3
   },
   "file_extension": ".py",
   "mimetype": "text/x-python",
   "name": "python",
   "nbconvert_exporter": "python",
   "pygments_lexer": "ipython3",
   "version": "3.9.12"
  }
 },
 "nbformat": 4,
 "nbformat_minor": 5
}
