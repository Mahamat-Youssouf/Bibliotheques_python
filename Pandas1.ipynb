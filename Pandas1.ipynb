{
 "cells": [
  {
   "cell_type": "markdown",
   "id": "577e5824",
   "metadata": {},
   "source": [
    "# La bibliothèque Pandas"
   ]
  },
  {
   "cell_type": "code",
   "execution_count": 1,
   "id": "dc962d83",
   "metadata": {},
   "outputs": [],
   "source": [
    "import pandas as pd \n",
    "import numpy as np"
   ]
  },
  {
   "cell_type": "code",
   "execution_count": 2,
   "id": "7e6fc4f8",
   "metadata": {},
   "outputs": [
    {
     "data": {
      "text/plain": [
       "'1.4.2'"
      ]
     },
     "execution_count": 2,
     "metadata": {},
     "output_type": "execute_result"
    }
   ],
   "source": [
    "pd.__version__"
   ]
  },
  {
   "cell_type": "code",
   "execution_count": 3,
   "id": "932d4a89",
   "metadata": {},
   "outputs": [],
   "source": [
    "data = pd.Series([5,10,15,20])"
   ]
  },
  {
   "cell_type": "code",
   "execution_count": 4,
   "id": "98ad6ecc",
   "metadata": {},
   "outputs": [
    {
     "data": {
      "text/plain": [
       "0     5\n",
       "1    10\n",
       "2    15\n",
       "3    20\n",
       "dtype: int64"
      ]
     },
     "execution_count": 4,
     "metadata": {},
     "output_type": "execute_result"
    }
   ],
   "source": [
    "data"
   ]
  },
  {
   "cell_type": "code",
   "execution_count": 5,
   "id": "6f7c236a",
   "metadata": {},
   "outputs": [
    {
     "data": {
      "text/plain": [
       "array([ 5, 10, 15, 20], dtype=int64)"
      ]
     },
     "execution_count": 5,
     "metadata": {},
     "output_type": "execute_result"
    }
   ],
   "source": [
    "data.values"
   ]
  },
  {
   "cell_type": "code",
   "execution_count": 6,
   "id": "2138010a",
   "metadata": {},
   "outputs": [
    {
     "data": {
      "text/plain": [
       "RangeIndex(start=0, stop=4, step=1)"
      ]
     },
     "execution_count": 6,
     "metadata": {},
     "output_type": "execute_result"
    }
   ],
   "source": [
    "data.index"
   ]
  },
  {
   "cell_type": "code",
   "execution_count": 7,
   "id": "e6c26d8d",
   "metadata": {},
   "outputs": [
    {
     "data": {
      "text/plain": [
       "5"
      ]
     },
     "execution_count": 7,
     "metadata": {},
     "output_type": "execute_result"
    }
   ],
   "source": [
    "data[0]"
   ]
  },
  {
   "cell_type": "code",
   "execution_count": 8,
   "id": "7580b065",
   "metadata": {},
   "outputs": [
    {
     "data": {
      "text/plain": [
       "15"
      ]
     },
     "execution_count": 8,
     "metadata": {},
     "output_type": "execute_result"
    }
   ],
   "source": [
    "data[2]"
   ]
  },
  {
   "cell_type": "code",
   "execution_count": 9,
   "id": "23778ace",
   "metadata": {},
   "outputs": [
    {
     "data": {
      "text/plain": [
       "1    10\n",
       "2    15\n",
       "dtype: int64"
      ]
     },
     "execution_count": 9,
     "metadata": {},
     "output_type": "execute_result"
    }
   ],
   "source": [
    "data[1:3]"
   ]
  },
  {
   "cell_type": "code",
   "execution_count": 10,
   "id": "409e031c",
   "metadata": {},
   "outputs": [
    {
     "data": {
      "text/plain": [
       "0     5\n",
       "1    10\n",
       "dtype: int64"
      ]
     },
     "execution_count": 10,
     "metadata": {},
     "output_type": "execute_result"
    }
   ],
   "source": [
    "data[:2]"
   ]
  },
  {
   "cell_type": "code",
   "execution_count": 11,
   "id": "fba3fa63",
   "metadata": {},
   "outputs": [],
   "source": [
    "liste = [1,2,3,4,5]\n",
    "indices = ['a','b',4,'c','ab']\n",
    "serie = pd.Series(data = liste, index = indices)"
   ]
  },
  {
   "cell_type": "code",
   "execution_count": 12,
   "id": "85aeb115",
   "metadata": {},
   "outputs": [
    {
     "data": {
      "text/plain": [
       "a     1\n",
       "b     2\n",
       "4     3\n",
       "c     4\n",
       "ab    5\n",
       "dtype: int64"
      ]
     },
     "execution_count": 12,
     "metadata": {},
     "output_type": "execute_result"
    }
   ],
   "source": [
    "serie"
   ]
  },
  {
   "cell_type": "code",
   "execution_count": 13,
   "id": "0e31a3de",
   "metadata": {},
   "outputs": [],
   "source": [
    "liste = [1,2,3,4,5]\n",
    "indices = ['a','b',4,'c','ab']\n",
    "serie1 = pd.Series(liste, indices)"
   ]
  },
  {
   "cell_type": "code",
   "execution_count": 14,
   "id": "a96a8432",
   "metadata": {},
   "outputs": [
    {
     "data": {
      "text/plain": [
       "a     1\n",
       "b     2\n",
       "4     3\n",
       "c     4\n",
       "ab    5\n",
       "dtype: int64"
      ]
     },
     "execution_count": 14,
     "metadata": {},
     "output_type": "execute_result"
    }
   ],
   "source": [
    "serie1"
   ]
  },
  {
   "cell_type": "code",
   "execution_count": 15,
   "id": "3bf483cb",
   "metadata": {},
   "outputs": [],
   "source": [
    "serie2 = pd.Series([5,10,15,20,25],['a','b','ab',3,4])"
   ]
  },
  {
   "cell_type": "code",
   "execution_count": 16,
   "id": "f760c43f",
   "metadata": {},
   "outputs": [
    {
     "data": {
      "text/plain": [
       "a      5\n",
       "b     10\n",
       "ab    15\n",
       "3     20\n",
       "4     25\n",
       "dtype: int64"
      ]
     },
     "execution_count": 16,
     "metadata": {},
     "output_type": "execute_result"
    }
   ],
   "source": [
    "serie2"
   ]
  },
  {
   "cell_type": "code",
   "execution_count": 17,
   "id": "51bff95a",
   "metadata": {},
   "outputs": [
    {
     "data": {
      "text/plain": [
       "5"
      ]
     },
     "execution_count": 17,
     "metadata": {},
     "output_type": "execute_result"
    }
   ],
   "source": [
    "serie2['a']"
   ]
  },
  {
   "cell_type": "code",
   "execution_count": 18,
   "id": "2d4ae7d0",
   "metadata": {},
   "outputs": [
    {
     "data": {
      "text/plain": [
       "15"
      ]
     },
     "execution_count": 18,
     "metadata": {},
     "output_type": "execute_result"
    }
   ],
   "source": [
    "serie2['ab']"
   ]
  },
  {
   "cell_type": "code",
   "execution_count": 19,
   "id": "6e768fa5",
   "metadata": {},
   "outputs": [],
   "source": [
    "notes_maths_dic = {'Christophe': 17, 'Clara': 10, 'Amine': 13, 'Amandine': 10.5, 'Lina': 13.5}"
   ]
  },
  {
   "cell_type": "code",
   "execution_count": 20,
   "id": "b246a502",
   "metadata": {},
   "outputs": [],
   "source": [
    "notes_maths = pd.Series(notes_maths_dic)"
   ]
  },
  {
   "cell_type": "code",
   "execution_count": 21,
   "id": "06b09e9a",
   "metadata": {},
   "outputs": [
    {
     "data": {
      "text/plain": [
       "Christophe    17.0\n",
       "Clara         10.0\n",
       "Amine         13.0\n",
       "Amandine      10.5\n",
       "Lina          13.5\n",
       "dtype: float64"
      ]
     },
     "execution_count": 21,
     "metadata": {},
     "output_type": "execute_result"
    }
   ],
   "source": [
    "notes_maths"
   ]
  },
  {
   "cell_type": "code",
   "execution_count": 22,
   "id": "0b077d39",
   "metadata": {},
   "outputs": [
    {
     "data": {
      "text/plain": [
       "17.0"
      ]
     },
     "execution_count": 22,
     "metadata": {},
     "output_type": "execute_result"
    }
   ],
   "source": [
    "notes_maths['Christophe']"
   ]
  },
  {
   "cell_type": "code",
   "execution_count": 23,
   "id": "877e331d",
   "metadata": {},
   "outputs": [
    {
     "data": {
      "text/plain": [
       "13.5"
      ]
     },
     "execution_count": 23,
     "metadata": {},
     "output_type": "execute_result"
    }
   ],
   "source": [
    "notes_maths['Lina']"
   ]
  },
  {
   "cell_type": "code",
   "execution_count": 24,
   "id": "7de0e121",
   "metadata": {},
   "outputs": [],
   "source": [
    "notes_maths1 = pd.Series(notes_maths_dic, index = ['Clara', 'Amine'])"
   ]
  },
  {
   "cell_type": "code",
   "execution_count": 25,
   "id": "8e4ecf46",
   "metadata": {},
   "outputs": [
    {
     "data": {
      "text/plain": [
       "Clara    10.0\n",
       "Amine    13.0\n",
       "dtype: float64"
      ]
     },
     "execution_count": 25,
     "metadata": {},
     "output_type": "execute_result"
    }
   ],
   "source": [
    "notes_maths1"
   ]
  },
  {
   "cell_type": "code",
   "execution_count": 26,
   "id": "4b6d1848",
   "metadata": {},
   "outputs": [],
   "source": [
    "data = pd.Series([5,10,20,30,40], index = ['a','b','c','d','e'])"
   ]
  },
  {
   "cell_type": "code",
   "execution_count": 27,
   "id": "5e9f6798",
   "metadata": {
    "scrolled": true
   },
   "outputs": [
    {
     "data": {
      "text/plain": [
       "a     5\n",
       "b    10\n",
       "c    20\n",
       "d    30\n",
       "e    40\n",
       "dtype: int64"
      ]
     },
     "execution_count": 27,
     "metadata": {},
     "output_type": "execute_result"
    }
   ],
   "source": [
    "data"
   ]
  },
  {
   "cell_type": "markdown",
   "id": "fdb49b5a",
   "metadata": {},
   "source": [
    "# Modifier Les données d'une série pandas"
   ]
  },
  {
   "cell_type": "code",
   "execution_count": 28,
   "id": "d397d2c1",
   "metadata": {},
   "outputs": [],
   "source": [
    "data['a'] = 100"
   ]
  },
  {
   "cell_type": "code",
   "execution_count": 29,
   "id": "eaf41c25",
   "metadata": {},
   "outputs": [
    {
     "data": {
      "text/plain": [
       "a    100\n",
       "b     10\n",
       "c     20\n",
       "d     30\n",
       "e     40\n",
       "dtype: int64"
      ]
     },
     "execution_count": 29,
     "metadata": {},
     "output_type": "execute_result"
    }
   ],
   "source": [
    "data"
   ]
  },
  {
   "cell_type": "code",
   "execution_count": 30,
   "id": "cb23162f",
   "metadata": {},
   "outputs": [],
   "source": [
    "data['x'] = 1000"
   ]
  },
  {
   "cell_type": "code",
   "execution_count": 31,
   "id": "d10ccb25",
   "metadata": {},
   "outputs": [
    {
     "data": {
      "text/plain": [
       "a     100\n",
       "b      10\n",
       "c      20\n",
       "d      30\n",
       "e      40\n",
       "x    1000\n",
       "dtype: int64"
      ]
     },
     "execution_count": 31,
     "metadata": {},
     "output_type": "execute_result"
    }
   ],
   "source": [
    "data"
   ]
  },
  {
   "cell_type": "code",
   "execution_count": 32,
   "id": "93f111de",
   "metadata": {},
   "outputs": [],
   "source": [
    "data['y'] = 2000"
   ]
  },
  {
   "cell_type": "code",
   "execution_count": 33,
   "id": "d7e26002",
   "metadata": {},
   "outputs": [
    {
     "data": {
      "text/plain": [
       "a     100\n",
       "b      10\n",
       "c      20\n",
       "d      30\n",
       "e      40\n",
       "x    1000\n",
       "y    2000\n",
       "dtype: int64"
      ]
     },
     "execution_count": 33,
     "metadata": {},
     "output_type": "execute_result"
    }
   ],
   "source": [
    "data"
   ]
  },
  {
   "cell_type": "code",
   "execution_count": 34,
   "id": "e53e278e",
   "metadata": {
    "scrolled": true
   },
   "outputs": [
    {
     "data": {
      "text/plain": [
       "Christophe    17.0\n",
       "Clara         10.0\n",
       "Amine         13.0\n",
       "Amandine      10.5\n",
       "Lina          13.5\n",
       "dtype: float64"
      ]
     },
     "execution_count": 34,
     "metadata": {},
     "output_type": "execute_result"
    }
   ],
   "source": [
    "notes_maths"
   ]
  },
  {
   "cell_type": "markdown",
   "id": "a591a312",
   "metadata": {},
   "source": [
    "# Filtrer les données d'une série Pandas"
   ]
  },
  {
   "cell_type": "code",
   "execution_count": 35,
   "id": "e2975a1b",
   "metadata": {},
   "outputs": [],
   "source": [
    "notes_12 = notes_maths[notes_maths >= 12]"
   ]
  },
  {
   "cell_type": "code",
   "execution_count": 36,
   "id": "2206fa91",
   "metadata": {},
   "outputs": [
    {
     "data": {
      "text/plain": [
       "Christophe    17.0\n",
       "Amine         13.0\n",
       "Lina          13.5\n",
       "dtype: float64"
      ]
     },
     "execution_count": 36,
     "metadata": {},
     "output_type": "execute_result"
    }
   ],
   "source": [
    "notes_12"
   ]
  },
  {
   "cell_type": "code",
   "execution_count": 37,
   "id": "e6c8a354",
   "metadata": {},
   "outputs": [],
   "source": [
    "notes_10_15 = notes_maths[(notes_maths <= 15) & (notes_maths >= 10)]"
   ]
  },
  {
   "cell_type": "code",
   "execution_count": 38,
   "id": "1d9c2285",
   "metadata": {},
   "outputs": [
    {
     "data": {
      "text/plain": [
       "Clara       10.0\n",
       "Amine       13.0\n",
       "Amandine    10.5\n",
       "Lina        13.5\n",
       "dtype: float64"
      ]
     },
     "execution_count": 38,
     "metadata": {},
     "output_type": "execute_result"
    }
   ],
   "source": [
    "notes_10_15"
   ]
  },
  {
   "cell_type": "markdown",
   "id": "c135af79",
   "metadata": {},
   "source": [
    "# Création d'un dataFrame à partir d'une série Pandas"
   ]
  },
  {
   "cell_type": "code",
   "execution_count": 39,
   "id": "0106c9de",
   "metadata": {},
   "outputs": [
    {
     "data": {
      "text/plain": [
       "Christophe    17.0\n",
       "Clara         10.0\n",
       "Amine         13.0\n",
       "Amandine      10.5\n",
       "Lina          13.5\n",
       "dtype: float64"
      ]
     },
     "execution_count": 39,
     "metadata": {},
     "output_type": "execute_result"
    }
   ],
   "source": [
    "notes_maths"
   ]
  },
  {
   "cell_type": "code",
   "execution_count": 40,
   "id": "bde81cd0",
   "metadata": {},
   "outputs": [],
   "source": [
    "dataFrame_maths = pd.DataFrame(notes_maths, columns = ['Notes'])"
   ]
  },
  {
   "cell_type": "code",
   "execution_count": 41,
   "id": "c7d160f5",
   "metadata": {},
   "outputs": [
    {
     "data": {
      "text/html": [
       "<div>\n",
       "<style scoped>\n",
       "    .dataframe tbody tr th:only-of-type {\n",
       "        vertical-align: middle;\n",
       "    }\n",
       "\n",
       "    .dataframe tbody tr th {\n",
       "        vertical-align: top;\n",
       "    }\n",
       "\n",
       "    .dataframe thead th {\n",
       "        text-align: right;\n",
       "    }\n",
       "</style>\n",
       "<table border=\"1\" class=\"dataframe\">\n",
       "  <thead>\n",
       "    <tr style=\"text-align: right;\">\n",
       "      <th></th>\n",
       "      <th>Notes</th>\n",
       "    </tr>\n",
       "  </thead>\n",
       "  <tbody>\n",
       "    <tr>\n",
       "      <th>Christophe</th>\n",
       "      <td>17.0</td>\n",
       "    </tr>\n",
       "    <tr>\n",
       "      <th>Clara</th>\n",
       "      <td>10.0</td>\n",
       "    </tr>\n",
       "    <tr>\n",
       "      <th>Amine</th>\n",
       "      <td>13.0</td>\n",
       "    </tr>\n",
       "    <tr>\n",
       "      <th>Amandine</th>\n",
       "      <td>10.5</td>\n",
       "    </tr>\n",
       "    <tr>\n",
       "      <th>Lina</th>\n",
       "      <td>13.5</td>\n",
       "    </tr>\n",
       "  </tbody>\n",
       "</table>\n",
       "</div>"
      ],
      "text/plain": [
       "            Notes\n",
       "Christophe   17.0\n",
       "Clara        10.0\n",
       "Amine        13.0\n",
       "Amandine     10.5\n",
       "Lina         13.5"
      ]
     },
     "execution_count": 41,
     "metadata": {},
     "output_type": "execute_result"
    }
   ],
   "source": [
    "dataFrame_maths"
   ]
  },
  {
   "cell_type": "markdown",
   "id": "8b93f130",
   "metadata": {},
   "source": [
    "# Création d'un dataframe à partir d'une liste de dictionnaires"
   ]
  },
  {
   "cell_type": "code",
   "execution_count": 42,
   "id": "432451a4",
   "metadata": {},
   "outputs": [],
   "source": [
    "d1 = {'a':5, 'b':10, 'c':15, 'd':20}\n",
    "d2 = {'a':25, 'b':30, 'c':35, 'd':40}\n",
    "d3 = {'a':45, 'b':50, 'c':55, 'd':60}"
   ]
  },
  {
   "cell_type": "code",
   "execution_count": 43,
   "id": "5f438ee6",
   "metadata": {},
   "outputs": [
    {
     "data": {
      "text/plain": [
       "{'a': 5, 'b': 10, 'c': 15, 'd': 20}"
      ]
     },
     "execution_count": 43,
     "metadata": {},
     "output_type": "execute_result"
    }
   ],
   "source": [
    "d1"
   ]
  },
  {
   "cell_type": "code",
   "execution_count": 44,
   "id": "040dcc94",
   "metadata": {},
   "outputs": [
    {
     "data": {
      "text/plain": [
       "{'a': 25, 'b': 30, 'c': 35, 'd': 40}"
      ]
     },
     "execution_count": 44,
     "metadata": {},
     "output_type": "execute_result"
    }
   ],
   "source": [
    "d2"
   ]
  },
  {
   "cell_type": "code",
   "execution_count": 45,
   "id": "3989b121",
   "metadata": {},
   "outputs": [
    {
     "data": {
      "text/plain": [
       "{'a': 45, 'b': 50, 'c': 55, 'd': 60}"
      ]
     },
     "execution_count": 45,
     "metadata": {},
     "output_type": "execute_result"
    }
   ],
   "source": [
    "d3"
   ]
  },
  {
   "cell_type": "code",
   "execution_count": 46,
   "id": "85ba5daa",
   "metadata": {},
   "outputs": [],
   "source": [
    "dataframe_dic = pd.DataFrame([d1,d2,d3])"
   ]
  },
  {
   "cell_type": "code",
   "execution_count": 47,
   "id": "e7b168a0",
   "metadata": {},
   "outputs": [
    {
     "data": {
      "text/html": [
       "<div>\n",
       "<style scoped>\n",
       "    .dataframe tbody tr th:only-of-type {\n",
       "        vertical-align: middle;\n",
       "    }\n",
       "\n",
       "    .dataframe tbody tr th {\n",
       "        vertical-align: top;\n",
       "    }\n",
       "\n",
       "    .dataframe thead th {\n",
       "        text-align: right;\n",
       "    }\n",
       "</style>\n",
       "<table border=\"1\" class=\"dataframe\">\n",
       "  <thead>\n",
       "    <tr style=\"text-align: right;\">\n",
       "      <th></th>\n",
       "      <th>a</th>\n",
       "      <th>b</th>\n",
       "      <th>c</th>\n",
       "      <th>d</th>\n",
       "    </tr>\n",
       "  </thead>\n",
       "  <tbody>\n",
       "    <tr>\n",
       "      <th>0</th>\n",
       "      <td>5</td>\n",
       "      <td>10</td>\n",
       "      <td>15</td>\n",
       "      <td>20</td>\n",
       "    </tr>\n",
       "    <tr>\n",
       "      <th>1</th>\n",
       "      <td>25</td>\n",
       "      <td>30</td>\n",
       "      <td>35</td>\n",
       "      <td>40</td>\n",
       "    </tr>\n",
       "    <tr>\n",
       "      <th>2</th>\n",
       "      <td>45</td>\n",
       "      <td>50</td>\n",
       "      <td>55</td>\n",
       "      <td>60</td>\n",
       "    </tr>\n",
       "  </tbody>\n",
       "</table>\n",
       "</div>"
      ],
      "text/plain": [
       "    a   b   c   d\n",
       "0   5  10  15  20\n",
       "1  25  30  35  40\n",
       "2  45  50  55  60"
      ]
     },
     "execution_count": 47,
     "metadata": {},
     "output_type": "execute_result"
    }
   ],
   "source": [
    "dataframe_dic"
   ]
  },
  {
   "cell_type": "code",
   "execution_count": 48,
   "id": "f1469e64",
   "metadata": {},
   "outputs": [],
   "source": [
    "d4 = {'a':5, 'b':10, 'c':15, 'd':20}\n",
    "d5 = {'a':25, 'd':40}\n",
    "d6 = {'a':45, 'b':50, 'd':60}"
   ]
  },
  {
   "cell_type": "code",
   "execution_count": 49,
   "id": "dcde4d62",
   "metadata": {},
   "outputs": [],
   "source": [
    "dataframe1 = pd.DataFrame([d4,d5,d6])"
   ]
  },
  {
   "cell_type": "code",
   "execution_count": 50,
   "id": "47d9f272",
   "metadata": {},
   "outputs": [
    {
     "data": {
      "text/html": [
       "<div>\n",
       "<style scoped>\n",
       "    .dataframe tbody tr th:only-of-type {\n",
       "        vertical-align: middle;\n",
       "    }\n",
       "\n",
       "    .dataframe tbody tr th {\n",
       "        vertical-align: top;\n",
       "    }\n",
       "\n",
       "    .dataframe thead th {\n",
       "        text-align: right;\n",
       "    }\n",
       "</style>\n",
       "<table border=\"1\" class=\"dataframe\">\n",
       "  <thead>\n",
       "    <tr style=\"text-align: right;\">\n",
       "      <th></th>\n",
       "      <th>a</th>\n",
       "      <th>b</th>\n",
       "      <th>c</th>\n",
       "      <th>d</th>\n",
       "    </tr>\n",
       "  </thead>\n",
       "  <tbody>\n",
       "    <tr>\n",
       "      <th>0</th>\n",
       "      <td>5</td>\n",
       "      <td>10.0</td>\n",
       "      <td>15.0</td>\n",
       "      <td>20</td>\n",
       "    </tr>\n",
       "    <tr>\n",
       "      <th>1</th>\n",
       "      <td>25</td>\n",
       "      <td>NaN</td>\n",
       "      <td>NaN</td>\n",
       "      <td>40</td>\n",
       "    </tr>\n",
       "    <tr>\n",
       "      <th>2</th>\n",
       "      <td>45</td>\n",
       "      <td>50.0</td>\n",
       "      <td>NaN</td>\n",
       "      <td>60</td>\n",
       "    </tr>\n",
       "  </tbody>\n",
       "</table>\n",
       "</div>"
      ],
      "text/plain": [
       "    a     b     c   d\n",
       "0   5  10.0  15.0  20\n",
       "1  25   NaN   NaN  40\n",
       "2  45  50.0   NaN  60"
      ]
     },
     "execution_count": 50,
     "metadata": {},
     "output_type": "execute_result"
    }
   ],
   "source": [
    "dataframe1"
   ]
  },
  {
   "cell_type": "code",
   "execution_count": 51,
   "id": "92e7d00c",
   "metadata": {},
   "outputs": [],
   "source": [
    "data_liste_dic = [{'a':i, 'b':2*i, 'c': i*i} for i in range(10)]"
   ]
  },
  {
   "cell_type": "code",
   "execution_count": 52,
   "id": "59f428a3",
   "metadata": {},
   "outputs": [
    {
     "data": {
      "text/plain": [
       "[{'a': 0, 'b': 0, 'c': 0},\n",
       " {'a': 1, 'b': 2, 'c': 1},\n",
       " {'a': 2, 'b': 4, 'c': 4},\n",
       " {'a': 3, 'b': 6, 'c': 9},\n",
       " {'a': 4, 'b': 8, 'c': 16},\n",
       " {'a': 5, 'b': 10, 'c': 25},\n",
       " {'a': 6, 'b': 12, 'c': 36},\n",
       " {'a': 7, 'b': 14, 'c': 49},\n",
       " {'a': 8, 'b': 16, 'c': 64},\n",
       " {'a': 9, 'b': 18, 'c': 81}]"
      ]
     },
     "execution_count": 52,
     "metadata": {},
     "output_type": "execute_result"
    }
   ],
   "source": [
    "data_liste_dic"
   ]
  },
  {
   "cell_type": "code",
   "execution_count": 53,
   "id": "f5fe3518",
   "metadata": {},
   "outputs": [],
   "source": [
    "dataframe_dic = pd.DataFrame(data_liste_dic)"
   ]
  },
  {
   "cell_type": "code",
   "execution_count": 54,
   "id": "2bcc6e15",
   "metadata": {},
   "outputs": [
    {
     "data": {
      "text/html": [
       "<div>\n",
       "<style scoped>\n",
       "    .dataframe tbody tr th:only-of-type {\n",
       "        vertical-align: middle;\n",
       "    }\n",
       "\n",
       "    .dataframe tbody tr th {\n",
       "        vertical-align: top;\n",
       "    }\n",
       "\n",
       "    .dataframe thead th {\n",
       "        text-align: right;\n",
       "    }\n",
       "</style>\n",
       "<table border=\"1\" class=\"dataframe\">\n",
       "  <thead>\n",
       "    <tr style=\"text-align: right;\">\n",
       "      <th></th>\n",
       "      <th>a</th>\n",
       "      <th>b</th>\n",
       "      <th>c</th>\n",
       "    </tr>\n",
       "  </thead>\n",
       "  <tbody>\n",
       "    <tr>\n",
       "      <th>0</th>\n",
       "      <td>0</td>\n",
       "      <td>0</td>\n",
       "      <td>0</td>\n",
       "    </tr>\n",
       "    <tr>\n",
       "      <th>1</th>\n",
       "      <td>1</td>\n",
       "      <td>2</td>\n",
       "      <td>1</td>\n",
       "    </tr>\n",
       "    <tr>\n",
       "      <th>2</th>\n",
       "      <td>2</td>\n",
       "      <td>4</td>\n",
       "      <td>4</td>\n",
       "    </tr>\n",
       "    <tr>\n",
       "      <th>3</th>\n",
       "      <td>3</td>\n",
       "      <td>6</td>\n",
       "      <td>9</td>\n",
       "    </tr>\n",
       "    <tr>\n",
       "      <th>4</th>\n",
       "      <td>4</td>\n",
       "      <td>8</td>\n",
       "      <td>16</td>\n",
       "    </tr>\n",
       "    <tr>\n",
       "      <th>5</th>\n",
       "      <td>5</td>\n",
       "      <td>10</td>\n",
       "      <td>25</td>\n",
       "    </tr>\n",
       "    <tr>\n",
       "      <th>6</th>\n",
       "      <td>6</td>\n",
       "      <td>12</td>\n",
       "      <td>36</td>\n",
       "    </tr>\n",
       "    <tr>\n",
       "      <th>7</th>\n",
       "      <td>7</td>\n",
       "      <td>14</td>\n",
       "      <td>49</td>\n",
       "    </tr>\n",
       "    <tr>\n",
       "      <th>8</th>\n",
       "      <td>8</td>\n",
       "      <td>16</td>\n",
       "      <td>64</td>\n",
       "    </tr>\n",
       "    <tr>\n",
       "      <th>9</th>\n",
       "      <td>9</td>\n",
       "      <td>18</td>\n",
       "      <td>81</td>\n",
       "    </tr>\n",
       "  </tbody>\n",
       "</table>\n",
       "</div>"
      ],
      "text/plain": [
       "   a   b   c\n",
       "0  0   0   0\n",
       "1  1   2   1\n",
       "2  2   4   4\n",
       "3  3   6   9\n",
       "4  4   8  16\n",
       "5  5  10  25\n",
       "6  6  12  36\n",
       "7  7  14  49\n",
       "8  8  16  64\n",
       "9  9  18  81"
      ]
     },
     "execution_count": 54,
     "metadata": {},
     "output_type": "execute_result"
    }
   ],
   "source": [
    "dataframe_dic"
   ]
  },
  {
   "cell_type": "markdown",
   "id": "b77d2510",
   "metadata": {},
   "source": [
    "# Construction d’un Dataframe à partir de plusieurs series Pandas"
   ]
  },
  {
   "cell_type": "code",
   "execution_count": 55,
   "id": "18aeb4e1",
   "metadata": {},
   "outputs": [],
   "source": [
    "notes_maths_dic = {'Christophe': 17, 'Clara': 10, 'Amine': 13, 'Amandine': 10.5, 'Lina': 13.5}\n",
    "notes_maths = pd.Series(notes_maths_dic)"
   ]
  },
  {
   "cell_type": "code",
   "execution_count": 56,
   "id": "0be00302",
   "metadata": {},
   "outputs": [],
   "source": [
    "notes_physique_dic = {'Christophe': 15, 'Clara': 8, 'Amine':10.5, 'Amandine': 17, 'Lina': 13.5}\n",
    "notes_physique = pd.Series(notes_physique_dic)"
   ]
  },
  {
   "cell_type": "code",
   "execution_count": 57,
   "id": "7fa87e41",
   "metadata": {},
   "outputs": [
    {
     "data": {
      "text/plain": [
       "Christophe    17.0\n",
       "Clara         10.0\n",
       "Amine         13.0\n",
       "Amandine      10.5\n",
       "Lina          13.5\n",
       "dtype: float64"
      ]
     },
     "execution_count": 57,
     "metadata": {},
     "output_type": "execute_result"
    }
   ],
   "source": [
    "notes_maths"
   ]
  },
  {
   "cell_type": "code",
   "execution_count": 58,
   "id": "bb12b5bb",
   "metadata": {},
   "outputs": [
    {
     "data": {
      "text/plain": [
       "Christophe    15.0\n",
       "Clara          8.0\n",
       "Amine         10.5\n",
       "Amandine      17.0\n",
       "Lina          13.5\n",
       "dtype: float64"
      ]
     },
     "execution_count": 58,
     "metadata": {},
     "output_type": "execute_result"
    }
   ],
   "source": [
    "notes_physique"
   ]
  },
  {
   "cell_type": "code",
   "execution_count": 59,
   "id": "479b6034",
   "metadata": {},
   "outputs": [],
   "source": [
    "notes = pd.DataFrame({'Maths': notes_maths, 'Physique': notes_physique})"
   ]
  },
  {
   "cell_type": "code",
   "execution_count": 60,
   "id": "774cd0ab",
   "metadata": {},
   "outputs": [
    {
     "data": {
      "text/html": [
       "<div>\n",
       "<style scoped>\n",
       "    .dataframe tbody tr th:only-of-type {\n",
       "        vertical-align: middle;\n",
       "    }\n",
       "\n",
       "    .dataframe tbody tr th {\n",
       "        vertical-align: top;\n",
       "    }\n",
       "\n",
       "    .dataframe thead th {\n",
       "        text-align: right;\n",
       "    }\n",
       "</style>\n",
       "<table border=\"1\" class=\"dataframe\">\n",
       "  <thead>\n",
       "    <tr style=\"text-align: right;\">\n",
       "      <th></th>\n",
       "      <th>Maths</th>\n",
       "      <th>Physique</th>\n",
       "    </tr>\n",
       "  </thead>\n",
       "  <tbody>\n",
       "    <tr>\n",
       "      <th>Christophe</th>\n",
       "      <td>17.0</td>\n",
       "      <td>15.0</td>\n",
       "    </tr>\n",
       "    <tr>\n",
       "      <th>Clara</th>\n",
       "      <td>10.0</td>\n",
       "      <td>8.0</td>\n",
       "    </tr>\n",
       "    <tr>\n",
       "      <th>Amine</th>\n",
       "      <td>13.0</td>\n",
       "      <td>10.5</td>\n",
       "    </tr>\n",
       "    <tr>\n",
       "      <th>Amandine</th>\n",
       "      <td>10.5</td>\n",
       "      <td>17.0</td>\n",
       "    </tr>\n",
       "    <tr>\n",
       "      <th>Lina</th>\n",
       "      <td>13.5</td>\n",
       "      <td>13.5</td>\n",
       "    </tr>\n",
       "  </tbody>\n",
       "</table>\n",
       "</div>"
      ],
      "text/plain": [
       "            Maths  Physique\n",
       "Christophe   17.0      15.0\n",
       "Clara        10.0       8.0\n",
       "Amine        13.0      10.5\n",
       "Amandine     10.5      17.0\n",
       "Lina         13.5      13.5"
      ]
     },
     "execution_count": 60,
     "metadata": {},
     "output_type": "execute_result"
    }
   ],
   "source": [
    "notes"
   ]
  },
  {
   "cell_type": "code",
   "execution_count": 61,
   "id": "2283047a",
   "metadata": {},
   "outputs": [
    {
     "data": {
      "text/plain": [
       "Index(['Christophe', 'Clara', 'Amine', 'Amandine', 'Lina'], dtype='object')"
      ]
     },
     "execution_count": 61,
     "metadata": {},
     "output_type": "execute_result"
    }
   ],
   "source": [
    "notes.index"
   ]
  },
  {
   "cell_type": "code",
   "execution_count": 62,
   "id": "376e4319",
   "metadata": {},
   "outputs": [
    {
     "data": {
      "text/plain": [
       "Index(['Maths', 'Physique'], dtype='object')"
      ]
     },
     "execution_count": 62,
     "metadata": {},
     "output_type": "execute_result"
    }
   ],
   "source": [
    "notes.columns"
   ]
  },
  {
   "cell_type": "code",
   "execution_count": 63,
   "id": "17783e58",
   "metadata": {},
   "outputs": [
    {
     "data": {
      "text/plain": [
       "Christophe    17.0\n",
       "Clara         10.0\n",
       "Amine         13.0\n",
       "Amandine      10.5\n",
       "Lina          13.5\n",
       "Name: Maths, dtype: float64"
      ]
     },
     "execution_count": 63,
     "metadata": {},
     "output_type": "execute_result"
    }
   ],
   "source": [
    "notes['Maths']"
   ]
  },
  {
   "cell_type": "code",
   "execution_count": 64,
   "id": "40fd0e92",
   "metadata": {},
   "outputs": [
    {
     "data": {
      "text/plain": [
       "Christophe    15.0\n",
       "Clara          8.0\n",
       "Amine         10.5\n",
       "Amandine      17.0\n",
       "Lina          13.5\n",
       "Name: Physique, dtype: float64"
      ]
     },
     "execution_count": 64,
     "metadata": {},
     "output_type": "execute_result"
    }
   ],
   "source": [
    "notes['Physique']"
   ]
  },
  {
   "cell_type": "markdown",
   "id": "d053609f",
   "metadata": {},
   "source": [
    "# Construction d’un dataframe à partir d’une matrice Numpy"
   ]
  },
  {
   "cell_type": "code",
   "execution_count": 65,
   "id": "89564842",
   "metadata": {},
   "outputs": [],
   "source": [
    "matrice = np.random.rand(3,4)"
   ]
  },
  {
   "cell_type": "code",
   "execution_count": 66,
   "id": "d6b6fe8c",
   "metadata": {},
   "outputs": [
    {
     "data": {
      "text/plain": [
       "array([[0.42408865, 0.31343267, 0.64679699, 0.07254364],\n",
       "       [0.60706752, 0.24716959, 0.4013532 , 0.69066675],\n",
       "       [0.1253936 , 0.81288525, 0.12587371, 0.39576586]])"
      ]
     },
     "execution_count": 66,
     "metadata": {},
     "output_type": "execute_result"
    }
   ],
   "source": [
    "matrice"
   ]
  },
  {
   "cell_type": "code",
   "execution_count": 67,
   "id": "59e8adf5",
   "metadata": {},
   "outputs": [],
   "source": [
    "dataframe1 = pd.DataFrame(matrice, columns = ['col1', 'col2','col3','col4'], index = ['linge1','linge2', 'ligne3'])"
   ]
  },
  {
   "cell_type": "code",
   "execution_count": 68,
   "id": "6d3b8871",
   "metadata": {},
   "outputs": [
    {
     "data": {
      "text/html": [
       "<div>\n",
       "<style scoped>\n",
       "    .dataframe tbody tr th:only-of-type {\n",
       "        vertical-align: middle;\n",
       "    }\n",
       "\n",
       "    .dataframe tbody tr th {\n",
       "        vertical-align: top;\n",
       "    }\n",
       "\n",
       "    .dataframe thead th {\n",
       "        text-align: right;\n",
       "    }\n",
       "</style>\n",
       "<table border=\"1\" class=\"dataframe\">\n",
       "  <thead>\n",
       "    <tr style=\"text-align: right;\">\n",
       "      <th></th>\n",
       "      <th>col1</th>\n",
       "      <th>col2</th>\n",
       "      <th>col3</th>\n",
       "      <th>col4</th>\n",
       "    </tr>\n",
       "  </thead>\n",
       "  <tbody>\n",
       "    <tr>\n",
       "      <th>linge1</th>\n",
       "      <td>0.424089</td>\n",
       "      <td>0.313433</td>\n",
       "      <td>0.646797</td>\n",
       "      <td>0.072544</td>\n",
       "    </tr>\n",
       "    <tr>\n",
       "      <th>linge2</th>\n",
       "      <td>0.607068</td>\n",
       "      <td>0.247170</td>\n",
       "      <td>0.401353</td>\n",
       "      <td>0.690667</td>\n",
       "    </tr>\n",
       "    <tr>\n",
       "      <th>ligne3</th>\n",
       "      <td>0.125394</td>\n",
       "      <td>0.812885</td>\n",
       "      <td>0.125874</td>\n",
       "      <td>0.395766</td>\n",
       "    </tr>\n",
       "  </tbody>\n",
       "</table>\n",
       "</div>"
      ],
      "text/plain": [
       "            col1      col2      col3      col4\n",
       "linge1  0.424089  0.313433  0.646797  0.072544\n",
       "linge2  0.607068  0.247170  0.401353  0.690667\n",
       "ligne3  0.125394  0.812885  0.125874  0.395766"
      ]
     },
     "execution_count": 68,
     "metadata": {},
     "output_type": "execute_result"
    }
   ],
   "source": [
    "dataframe1"
   ]
  },
  {
   "cell_type": "code",
   "execution_count": 69,
   "id": "a6a8f229",
   "metadata": {},
   "outputs": [],
   "source": [
    "data = np.arange(10,22).reshape(3,4)"
   ]
  },
  {
   "cell_type": "code",
   "execution_count": 70,
   "id": "844e1b80",
   "metadata": {},
   "outputs": [
    {
     "data": {
      "text/plain": [
       "array([[10, 11, 12, 13],\n",
       "       [14, 15, 16, 17],\n",
       "       [18, 19, 20, 21]])"
      ]
     },
     "execution_count": 70,
     "metadata": {},
     "output_type": "execute_result"
    }
   ],
   "source": [
    "data"
   ]
  },
  {
   "cell_type": "code",
   "execution_count": 71,
   "id": "c8c9c852",
   "metadata": {},
   "outputs": [],
   "source": [
    "dataframe2 = pd.DataFrame(data, columns = ['c1','c2','c3', 'c4'], index = ['Maths','Physique','Informatique'])"
   ]
  },
  {
   "cell_type": "code",
   "execution_count": 72,
   "id": "672557ff",
   "metadata": {},
   "outputs": [
    {
     "data": {
      "text/html": [
       "<div>\n",
       "<style scoped>\n",
       "    .dataframe tbody tr th:only-of-type {\n",
       "        vertical-align: middle;\n",
       "    }\n",
       "\n",
       "    .dataframe tbody tr th {\n",
       "        vertical-align: top;\n",
       "    }\n",
       "\n",
       "    .dataframe thead th {\n",
       "        text-align: right;\n",
       "    }\n",
       "</style>\n",
       "<table border=\"1\" class=\"dataframe\">\n",
       "  <thead>\n",
       "    <tr style=\"text-align: right;\">\n",
       "      <th></th>\n",
       "      <th>c1</th>\n",
       "      <th>c2</th>\n",
       "      <th>c3</th>\n",
       "      <th>c4</th>\n",
       "    </tr>\n",
       "  </thead>\n",
       "  <tbody>\n",
       "    <tr>\n",
       "      <th>Maths</th>\n",
       "      <td>10</td>\n",
       "      <td>11</td>\n",
       "      <td>12</td>\n",
       "      <td>13</td>\n",
       "    </tr>\n",
       "    <tr>\n",
       "      <th>Physique</th>\n",
       "      <td>14</td>\n",
       "      <td>15</td>\n",
       "      <td>16</td>\n",
       "      <td>17</td>\n",
       "    </tr>\n",
       "    <tr>\n",
       "      <th>Informatique</th>\n",
       "      <td>18</td>\n",
       "      <td>19</td>\n",
       "      <td>20</td>\n",
       "      <td>21</td>\n",
       "    </tr>\n",
       "  </tbody>\n",
       "</table>\n",
       "</div>"
      ],
      "text/plain": [
       "              c1  c2  c3  c4\n",
       "Maths         10  11  12  13\n",
       "Physique      14  15  16  17\n",
       "Informatique  18  19  20  21"
      ]
     },
     "execution_count": 72,
     "metadata": {},
     "output_type": "execute_result"
    }
   ],
   "source": [
    "dataframe2"
   ]
  },
  {
   "cell_type": "code",
   "execution_count": 73,
   "id": "99396614",
   "metadata": {},
   "outputs": [
    {
     "data": {
      "text/html": [
       "<div>\n",
       "<style scoped>\n",
       "    .dataframe tbody tr th:only-of-type {\n",
       "        vertical-align: middle;\n",
       "    }\n",
       "\n",
       "    .dataframe tbody tr th {\n",
       "        vertical-align: top;\n",
       "    }\n",
       "\n",
       "    .dataframe thead th {\n",
       "        text-align: right;\n",
       "    }\n",
       "</style>\n",
       "<table border=\"1\" class=\"dataframe\">\n",
       "  <thead>\n",
       "    <tr style=\"text-align: right;\">\n",
       "      <th></th>\n",
       "      <th>Maths</th>\n",
       "      <th>Physique</th>\n",
       "    </tr>\n",
       "  </thead>\n",
       "  <tbody>\n",
       "    <tr>\n",
       "      <th>Christophe</th>\n",
       "      <td>17.0</td>\n",
       "      <td>15.0</td>\n",
       "    </tr>\n",
       "    <tr>\n",
       "      <th>Clara</th>\n",
       "      <td>10.0</td>\n",
       "      <td>8.0</td>\n",
       "    </tr>\n",
       "    <tr>\n",
       "      <th>Amine</th>\n",
       "      <td>13.0</td>\n",
       "      <td>10.5</td>\n",
       "    </tr>\n",
       "    <tr>\n",
       "      <th>Amandine</th>\n",
       "      <td>10.5</td>\n",
       "      <td>17.0</td>\n",
       "    </tr>\n",
       "    <tr>\n",
       "      <th>Lina</th>\n",
       "      <td>13.5</td>\n",
       "      <td>13.5</td>\n",
       "    </tr>\n",
       "  </tbody>\n",
       "</table>\n",
       "</div>"
      ],
      "text/plain": [
       "            Maths  Physique\n",
       "Christophe   17.0      15.0\n",
       "Clara        10.0       8.0\n",
       "Amine        13.0      10.5\n",
       "Amandine     10.5      17.0\n",
       "Lina         13.5      13.5"
      ]
     },
     "execution_count": 73,
     "metadata": {},
     "output_type": "execute_result"
    }
   ],
   "source": [
    "notes"
   ]
  },
  {
   "cell_type": "code",
   "execution_count": 74,
   "id": "76d275af",
   "metadata": {},
   "outputs": [],
   "source": [
    "notes['Moyenne'] = (notes['Maths'] + notes['Physique'])/2"
   ]
  },
  {
   "cell_type": "code",
   "execution_count": 75,
   "id": "7358423d",
   "metadata": {},
   "outputs": [
    {
     "data": {
      "text/html": [
       "<div>\n",
       "<style scoped>\n",
       "    .dataframe tbody tr th:only-of-type {\n",
       "        vertical-align: middle;\n",
       "    }\n",
       "\n",
       "    .dataframe tbody tr th {\n",
       "        vertical-align: top;\n",
       "    }\n",
       "\n",
       "    .dataframe thead th {\n",
       "        text-align: right;\n",
       "    }\n",
       "</style>\n",
       "<table border=\"1\" class=\"dataframe\">\n",
       "  <thead>\n",
       "    <tr style=\"text-align: right;\">\n",
       "      <th></th>\n",
       "      <th>Maths</th>\n",
       "      <th>Physique</th>\n",
       "      <th>Moyenne</th>\n",
       "    </tr>\n",
       "  </thead>\n",
       "  <tbody>\n",
       "    <tr>\n",
       "      <th>Christophe</th>\n",
       "      <td>17.0</td>\n",
       "      <td>15.0</td>\n",
       "      <td>16.00</td>\n",
       "    </tr>\n",
       "    <tr>\n",
       "      <th>Clara</th>\n",
       "      <td>10.0</td>\n",
       "      <td>8.0</td>\n",
       "      <td>9.00</td>\n",
       "    </tr>\n",
       "    <tr>\n",
       "      <th>Amine</th>\n",
       "      <td>13.0</td>\n",
       "      <td>10.5</td>\n",
       "      <td>11.75</td>\n",
       "    </tr>\n",
       "    <tr>\n",
       "      <th>Amandine</th>\n",
       "      <td>10.5</td>\n",
       "      <td>17.0</td>\n",
       "      <td>13.75</td>\n",
       "    </tr>\n",
       "    <tr>\n",
       "      <th>Lina</th>\n",
       "      <td>13.5</td>\n",
       "      <td>13.5</td>\n",
       "      <td>13.50</td>\n",
       "    </tr>\n",
       "  </tbody>\n",
       "</table>\n",
       "</div>"
      ],
      "text/plain": [
       "            Maths  Physique  Moyenne\n",
       "Christophe   17.0      15.0    16.00\n",
       "Clara        10.0       8.0     9.00\n",
       "Amine        13.0      10.5    11.75\n",
       "Amandine     10.5      17.0    13.75\n",
       "Lina         13.5      13.5    13.50"
      ]
     },
     "execution_count": 75,
     "metadata": {},
     "output_type": "execute_result"
    }
   ],
   "source": [
    "notes"
   ]
  },
  {
   "cell_type": "code",
   "execution_count": 76,
   "id": "e6110fb3",
   "metadata": {},
   "outputs": [
    {
     "data": {
      "text/html": [
       "<div>\n",
       "<style scoped>\n",
       "    .dataframe tbody tr th:only-of-type {\n",
       "        vertical-align: middle;\n",
       "    }\n",
       "\n",
       "    .dataframe tbody tr th {\n",
       "        vertical-align: top;\n",
       "    }\n",
       "\n",
       "    .dataframe thead th {\n",
       "        text-align: right;\n",
       "    }\n",
       "</style>\n",
       "<table border=\"1\" class=\"dataframe\">\n",
       "  <thead>\n",
       "    <tr style=\"text-align: right;\">\n",
       "      <th></th>\n",
       "      <th>Maths</th>\n",
       "      <th>Physique</th>\n",
       "    </tr>\n",
       "  </thead>\n",
       "  <tbody>\n",
       "    <tr>\n",
       "      <th>Christophe</th>\n",
       "      <td>17.0</td>\n",
       "      <td>15.0</td>\n",
       "    </tr>\n",
       "    <tr>\n",
       "      <th>Clara</th>\n",
       "      <td>10.0</td>\n",
       "      <td>8.0</td>\n",
       "    </tr>\n",
       "    <tr>\n",
       "      <th>Amine</th>\n",
       "      <td>13.0</td>\n",
       "      <td>10.5</td>\n",
       "    </tr>\n",
       "    <tr>\n",
       "      <th>Amandine</th>\n",
       "      <td>10.5</td>\n",
       "      <td>17.0</td>\n",
       "    </tr>\n",
       "    <tr>\n",
       "      <th>Lina</th>\n",
       "      <td>13.5</td>\n",
       "      <td>13.5</td>\n",
       "    </tr>\n",
       "  </tbody>\n",
       "</table>\n",
       "</div>"
      ],
      "text/plain": [
       "            Maths  Physique\n",
       "Christophe   17.0      15.0\n",
       "Clara        10.0       8.0\n",
       "Amine        13.0      10.5\n",
       "Amandine     10.5      17.0\n",
       "Lina         13.5      13.5"
      ]
     },
     "execution_count": 76,
     "metadata": {},
     "output_type": "execute_result"
    }
   ],
   "source": [
    "notes[['Maths','Physique']]"
   ]
  },
  {
   "cell_type": "code",
   "execution_count": 77,
   "id": "9126ad62",
   "metadata": {},
   "outputs": [
    {
     "data": {
      "text/html": [
       "<div>\n",
       "<style scoped>\n",
       "    .dataframe tbody tr th:only-of-type {\n",
       "        vertical-align: middle;\n",
       "    }\n",
       "\n",
       "    .dataframe tbody tr th {\n",
       "        vertical-align: top;\n",
       "    }\n",
       "\n",
       "    .dataframe thead th {\n",
       "        text-align: right;\n",
       "    }\n",
       "</style>\n",
       "<table border=\"1\" class=\"dataframe\">\n",
       "  <thead>\n",
       "    <tr style=\"text-align: right;\">\n",
       "      <th></th>\n",
       "      <th>Maths</th>\n",
       "      <th>Physique</th>\n",
       "      <th>Moyenne</th>\n",
       "    </tr>\n",
       "  </thead>\n",
       "  <tbody>\n",
       "    <tr>\n",
       "      <th>Christophe</th>\n",
       "      <td>17.0</td>\n",
       "      <td>15.0</td>\n",
       "      <td>16.00</td>\n",
       "    </tr>\n",
       "    <tr>\n",
       "      <th>Clara</th>\n",
       "      <td>10.0</td>\n",
       "      <td>8.0</td>\n",
       "      <td>9.00</td>\n",
       "    </tr>\n",
       "    <tr>\n",
       "      <th>Amine</th>\n",
       "      <td>13.0</td>\n",
       "      <td>10.5</td>\n",
       "      <td>11.75</td>\n",
       "    </tr>\n",
       "    <tr>\n",
       "      <th>Amandine</th>\n",
       "      <td>10.5</td>\n",
       "      <td>17.0</td>\n",
       "      <td>13.75</td>\n",
       "    </tr>\n",
       "    <tr>\n",
       "      <th>Lina</th>\n",
       "      <td>13.5</td>\n",
       "      <td>13.5</td>\n",
       "      <td>13.50</td>\n",
       "    </tr>\n",
       "  </tbody>\n",
       "</table>\n",
       "</div>"
      ],
      "text/plain": [
       "            Maths  Physique  Moyenne\n",
       "Christophe   17.0      15.0    16.00\n",
       "Clara        10.0       8.0     9.00\n",
       "Amine        13.0      10.5    11.75\n",
       "Amandine     10.5      17.0    13.75\n",
       "Lina         13.5      13.5    13.50"
      ]
     },
     "execution_count": 77,
     "metadata": {},
     "output_type": "execute_result"
    }
   ],
   "source": [
    "notes"
   ]
  },
  {
   "cell_type": "code",
   "execution_count": 78,
   "id": "11453576",
   "metadata": {},
   "outputs": [
    {
     "data": {
      "text/html": [
       "<div>\n",
       "<style scoped>\n",
       "    .dataframe tbody tr th:only-of-type {\n",
       "        vertical-align: middle;\n",
       "    }\n",
       "\n",
       "    .dataframe tbody tr th {\n",
       "        vertical-align: top;\n",
       "    }\n",
       "\n",
       "    .dataframe thead th {\n",
       "        text-align: right;\n",
       "    }\n",
       "</style>\n",
       "<table border=\"1\" class=\"dataframe\">\n",
       "  <thead>\n",
       "    <tr style=\"text-align: right;\">\n",
       "      <th></th>\n",
       "      <th>Maths</th>\n",
       "      <th>Physique</th>\n",
       "    </tr>\n",
       "  </thead>\n",
       "  <tbody>\n",
       "    <tr>\n",
       "      <th>Christophe</th>\n",
       "      <td>17.0</td>\n",
       "      <td>15.0</td>\n",
       "    </tr>\n",
       "    <tr>\n",
       "      <th>Clara</th>\n",
       "      <td>10.0</td>\n",
       "      <td>8.0</td>\n",
       "    </tr>\n",
       "    <tr>\n",
       "      <th>Amine</th>\n",
       "      <td>13.0</td>\n",
       "      <td>10.5</td>\n",
       "    </tr>\n",
       "    <tr>\n",
       "      <th>Amandine</th>\n",
       "      <td>10.5</td>\n",
       "      <td>17.0</td>\n",
       "    </tr>\n",
       "    <tr>\n",
       "      <th>Lina</th>\n",
       "      <td>13.5</td>\n",
       "      <td>13.5</td>\n",
       "    </tr>\n",
       "  </tbody>\n",
       "</table>\n",
       "</div>"
      ],
      "text/plain": [
       "            Maths  Physique\n",
       "Christophe   17.0      15.0\n",
       "Clara        10.0       8.0\n",
       "Amine        13.0      10.5\n",
       "Amandine     10.5      17.0\n",
       "Lina         13.5      13.5"
      ]
     },
     "execution_count": 78,
     "metadata": {},
     "output_type": "execute_result"
    }
   ],
   "source": [
    "notes.drop('Moyenne', axis = 1)"
   ]
  },
  {
   "cell_type": "code",
   "execution_count": 79,
   "id": "8261fa3b",
   "metadata": {},
   "outputs": [
    {
     "data": {
      "text/html": [
       "<div>\n",
       "<style scoped>\n",
       "    .dataframe tbody tr th:only-of-type {\n",
       "        vertical-align: middle;\n",
       "    }\n",
       "\n",
       "    .dataframe tbody tr th {\n",
       "        vertical-align: top;\n",
       "    }\n",
       "\n",
       "    .dataframe thead th {\n",
       "        text-align: right;\n",
       "    }\n",
       "</style>\n",
       "<table border=\"1\" class=\"dataframe\">\n",
       "  <thead>\n",
       "    <tr style=\"text-align: right;\">\n",
       "      <th></th>\n",
       "      <th>Maths</th>\n",
       "      <th>Physique</th>\n",
       "      <th>Moyenne</th>\n",
       "    </tr>\n",
       "  </thead>\n",
       "  <tbody>\n",
       "    <tr>\n",
       "      <th>Christophe</th>\n",
       "      <td>17.0</td>\n",
       "      <td>15.0</td>\n",
       "      <td>16.00</td>\n",
       "    </tr>\n",
       "    <tr>\n",
       "      <th>Clara</th>\n",
       "      <td>10.0</td>\n",
       "      <td>8.0</td>\n",
       "      <td>9.00</td>\n",
       "    </tr>\n",
       "    <tr>\n",
       "      <th>Amine</th>\n",
       "      <td>13.0</td>\n",
       "      <td>10.5</td>\n",
       "      <td>11.75</td>\n",
       "    </tr>\n",
       "    <tr>\n",
       "      <th>Amandine</th>\n",
       "      <td>10.5</td>\n",
       "      <td>17.0</td>\n",
       "      <td>13.75</td>\n",
       "    </tr>\n",
       "    <tr>\n",
       "      <th>Lina</th>\n",
       "      <td>13.5</td>\n",
       "      <td>13.5</td>\n",
       "      <td>13.50</td>\n",
       "    </tr>\n",
       "  </tbody>\n",
       "</table>\n",
       "</div>"
      ],
      "text/plain": [
       "            Maths  Physique  Moyenne\n",
       "Christophe   17.0      15.0    16.00\n",
       "Clara        10.0       8.0     9.00\n",
       "Amine        13.0      10.5    11.75\n",
       "Amandine     10.5      17.0    13.75\n",
       "Lina         13.5      13.5    13.50"
      ]
     },
     "execution_count": 79,
     "metadata": {},
     "output_type": "execute_result"
    }
   ],
   "source": [
    "notes"
   ]
  },
  {
   "cell_type": "code",
   "execution_count": 80,
   "id": "42efcebe",
   "metadata": {},
   "outputs": [],
   "source": [
    "notes_modif = notes.drop('Moyenne', axis=1)"
   ]
  },
  {
   "cell_type": "code",
   "execution_count": 81,
   "id": "04e4e124",
   "metadata": {},
   "outputs": [
    {
     "data": {
      "text/html": [
       "<div>\n",
       "<style scoped>\n",
       "    .dataframe tbody tr th:only-of-type {\n",
       "        vertical-align: middle;\n",
       "    }\n",
       "\n",
       "    .dataframe tbody tr th {\n",
       "        vertical-align: top;\n",
       "    }\n",
       "\n",
       "    .dataframe thead th {\n",
       "        text-align: right;\n",
       "    }\n",
       "</style>\n",
       "<table border=\"1\" class=\"dataframe\">\n",
       "  <thead>\n",
       "    <tr style=\"text-align: right;\">\n",
       "      <th></th>\n",
       "      <th>Maths</th>\n",
       "      <th>Physique</th>\n",
       "    </tr>\n",
       "  </thead>\n",
       "  <tbody>\n",
       "    <tr>\n",
       "      <th>Christophe</th>\n",
       "      <td>17.0</td>\n",
       "      <td>15.0</td>\n",
       "    </tr>\n",
       "    <tr>\n",
       "      <th>Clara</th>\n",
       "      <td>10.0</td>\n",
       "      <td>8.0</td>\n",
       "    </tr>\n",
       "    <tr>\n",
       "      <th>Amine</th>\n",
       "      <td>13.0</td>\n",
       "      <td>10.5</td>\n",
       "    </tr>\n",
       "    <tr>\n",
       "      <th>Amandine</th>\n",
       "      <td>10.5</td>\n",
       "      <td>17.0</td>\n",
       "    </tr>\n",
       "    <tr>\n",
       "      <th>Lina</th>\n",
       "      <td>13.5</td>\n",
       "      <td>13.5</td>\n",
       "    </tr>\n",
       "  </tbody>\n",
       "</table>\n",
       "</div>"
      ],
      "text/plain": [
       "            Maths  Physique\n",
       "Christophe   17.0      15.0\n",
       "Clara        10.0       8.0\n",
       "Amine        13.0      10.5\n",
       "Amandine     10.5      17.0\n",
       "Lina         13.5      13.5"
      ]
     },
     "execution_count": 81,
     "metadata": {},
     "output_type": "execute_result"
    }
   ],
   "source": [
    "notes_modif"
   ]
  },
  {
   "cell_type": "code",
   "execution_count": 82,
   "id": "ff9cbea0",
   "metadata": {},
   "outputs": [
    {
     "data": {
      "text/html": [
       "<div>\n",
       "<style scoped>\n",
       "    .dataframe tbody tr th:only-of-type {\n",
       "        vertical-align: middle;\n",
       "    }\n",
       "\n",
       "    .dataframe tbody tr th {\n",
       "        vertical-align: top;\n",
       "    }\n",
       "\n",
       "    .dataframe thead th {\n",
       "        text-align: right;\n",
       "    }\n",
       "</style>\n",
       "<table border=\"1\" class=\"dataframe\">\n",
       "  <thead>\n",
       "    <tr style=\"text-align: right;\">\n",
       "      <th></th>\n",
       "      <th>Maths</th>\n",
       "      <th>Physique</th>\n",
       "      <th>Moyenne</th>\n",
       "    </tr>\n",
       "  </thead>\n",
       "  <tbody>\n",
       "    <tr>\n",
       "      <th>Christophe</th>\n",
       "      <td>17.0</td>\n",
       "      <td>15.0</td>\n",
       "      <td>16.00</td>\n",
       "    </tr>\n",
       "    <tr>\n",
       "      <th>Clara</th>\n",
       "      <td>10.0</td>\n",
       "      <td>8.0</td>\n",
       "      <td>9.00</td>\n",
       "    </tr>\n",
       "    <tr>\n",
       "      <th>Amine</th>\n",
       "      <td>13.0</td>\n",
       "      <td>10.5</td>\n",
       "      <td>11.75</td>\n",
       "    </tr>\n",
       "    <tr>\n",
       "      <th>Amandine</th>\n",
       "      <td>10.5</td>\n",
       "      <td>17.0</td>\n",
       "      <td>13.75</td>\n",
       "    </tr>\n",
       "    <tr>\n",
       "      <th>Lina</th>\n",
       "      <td>13.5</td>\n",
       "      <td>13.5</td>\n",
       "      <td>13.50</td>\n",
       "    </tr>\n",
       "  </tbody>\n",
       "</table>\n",
       "</div>"
      ],
      "text/plain": [
       "            Maths  Physique  Moyenne\n",
       "Christophe   17.0      15.0    16.00\n",
       "Clara        10.0       8.0     9.00\n",
       "Amine        13.0      10.5    11.75\n",
       "Amandine     10.5      17.0    13.75\n",
       "Lina         13.5      13.5    13.50"
      ]
     },
     "execution_count": 82,
     "metadata": {},
     "output_type": "execute_result"
    }
   ],
   "source": [
    "notes"
   ]
  },
  {
   "cell_type": "code",
   "execution_count": 83,
   "id": "c14dbdcc",
   "metadata": {},
   "outputs": [],
   "source": [
    "notes.drop('Moyenne', axis = 1, inplace = True)"
   ]
  },
  {
   "cell_type": "code",
   "execution_count": 84,
   "id": "0df8666b",
   "metadata": {},
   "outputs": [
    {
     "data": {
      "text/html": [
       "<div>\n",
       "<style scoped>\n",
       "    .dataframe tbody tr th:only-of-type {\n",
       "        vertical-align: middle;\n",
       "    }\n",
       "\n",
       "    .dataframe tbody tr th {\n",
       "        vertical-align: top;\n",
       "    }\n",
       "\n",
       "    .dataframe thead th {\n",
       "        text-align: right;\n",
       "    }\n",
       "</style>\n",
       "<table border=\"1\" class=\"dataframe\">\n",
       "  <thead>\n",
       "    <tr style=\"text-align: right;\">\n",
       "      <th></th>\n",
       "      <th>Maths</th>\n",
       "      <th>Physique</th>\n",
       "    </tr>\n",
       "  </thead>\n",
       "  <tbody>\n",
       "    <tr>\n",
       "      <th>Christophe</th>\n",
       "      <td>17.0</td>\n",
       "      <td>15.0</td>\n",
       "    </tr>\n",
       "    <tr>\n",
       "      <th>Clara</th>\n",
       "      <td>10.0</td>\n",
       "      <td>8.0</td>\n",
       "    </tr>\n",
       "    <tr>\n",
       "      <th>Amine</th>\n",
       "      <td>13.0</td>\n",
       "      <td>10.5</td>\n",
       "    </tr>\n",
       "    <tr>\n",
       "      <th>Amandine</th>\n",
       "      <td>10.5</td>\n",
       "      <td>17.0</td>\n",
       "    </tr>\n",
       "    <tr>\n",
       "      <th>Lina</th>\n",
       "      <td>13.5</td>\n",
       "      <td>13.5</td>\n",
       "    </tr>\n",
       "  </tbody>\n",
       "</table>\n",
       "</div>"
      ],
      "text/plain": [
       "            Maths  Physique\n",
       "Christophe   17.0      15.0\n",
       "Clara        10.0       8.0\n",
       "Amine        13.0      10.5\n",
       "Amandine     10.5      17.0\n",
       "Lina         13.5      13.5"
      ]
     },
     "execution_count": 84,
     "metadata": {},
     "output_type": "execute_result"
    }
   ],
   "source": [
    "notes"
   ]
  },
  {
   "cell_type": "code",
   "execution_count": 85,
   "id": "002557f8",
   "metadata": {},
   "outputs": [],
   "source": [
    "notes = notes.drop('Physique', axis = 1)"
   ]
  },
  {
   "cell_type": "code",
   "execution_count": 86,
   "id": "67a8907c",
   "metadata": {},
   "outputs": [
    {
     "data": {
      "text/html": [
       "<div>\n",
       "<style scoped>\n",
       "    .dataframe tbody tr th:only-of-type {\n",
       "        vertical-align: middle;\n",
       "    }\n",
       "\n",
       "    .dataframe tbody tr th {\n",
       "        vertical-align: top;\n",
       "    }\n",
       "\n",
       "    .dataframe thead th {\n",
       "        text-align: right;\n",
       "    }\n",
       "</style>\n",
       "<table border=\"1\" class=\"dataframe\">\n",
       "  <thead>\n",
       "    <tr style=\"text-align: right;\">\n",
       "      <th></th>\n",
       "      <th>Maths</th>\n",
       "    </tr>\n",
       "  </thead>\n",
       "  <tbody>\n",
       "    <tr>\n",
       "      <th>Christophe</th>\n",
       "      <td>17.0</td>\n",
       "    </tr>\n",
       "    <tr>\n",
       "      <th>Clara</th>\n",
       "      <td>10.0</td>\n",
       "    </tr>\n",
       "    <tr>\n",
       "      <th>Amine</th>\n",
       "      <td>13.0</td>\n",
       "    </tr>\n",
       "    <tr>\n",
       "      <th>Amandine</th>\n",
       "      <td>10.5</td>\n",
       "    </tr>\n",
       "    <tr>\n",
       "      <th>Lina</th>\n",
       "      <td>13.5</td>\n",
       "    </tr>\n",
       "  </tbody>\n",
       "</table>\n",
       "</div>"
      ],
      "text/plain": [
       "            Maths\n",
       "Christophe   17.0\n",
       "Clara        10.0\n",
       "Amine        13.0\n",
       "Amandine     10.5\n",
       "Lina         13.5"
      ]
     },
     "execution_count": 86,
     "metadata": {},
     "output_type": "execute_result"
    }
   ],
   "source": [
    "notes"
   ]
  },
  {
   "cell_type": "code",
   "execution_count": 87,
   "id": "b1194b82",
   "metadata": {},
   "outputs": [
    {
     "data": {
      "text/html": [
       "<div>\n",
       "<style scoped>\n",
       "    .dataframe tbody tr th:only-of-type {\n",
       "        vertical-align: middle;\n",
       "    }\n",
       "\n",
       "    .dataframe tbody tr th {\n",
       "        vertical-align: top;\n",
       "    }\n",
       "\n",
       "    .dataframe thead th {\n",
       "        text-align: right;\n",
       "    }\n",
       "</style>\n",
       "<table border=\"1\" class=\"dataframe\">\n",
       "  <thead>\n",
       "    <tr style=\"text-align: right;\">\n",
       "      <th></th>\n",
       "      <th>Maths</th>\n",
       "    </tr>\n",
       "  </thead>\n",
       "  <tbody>\n",
       "    <tr>\n",
       "      <th>Christophe</th>\n",
       "      <td>17.0</td>\n",
       "    </tr>\n",
       "    <tr>\n",
       "      <th>Amine</th>\n",
       "      <td>13.0</td>\n",
       "    </tr>\n",
       "    <tr>\n",
       "      <th>Amandine</th>\n",
       "      <td>10.5</td>\n",
       "    </tr>\n",
       "    <tr>\n",
       "      <th>Lina</th>\n",
       "      <td>13.5</td>\n",
       "    </tr>\n",
       "  </tbody>\n",
       "</table>\n",
       "</div>"
      ],
      "text/plain": [
       "            Maths\n",
       "Christophe   17.0\n",
       "Amine        13.0\n",
       "Amandine     10.5\n",
       "Lina         13.5"
      ]
     },
     "execution_count": 87,
     "metadata": {},
     "output_type": "execute_result"
    }
   ],
   "source": [
    "notes.drop('Clara')"
   ]
  },
  {
   "cell_type": "code",
   "execution_count": 88,
   "id": "e08a6525",
   "metadata": {},
   "outputs": [
    {
     "data": {
      "text/html": [
       "<div>\n",
       "<style scoped>\n",
       "    .dataframe tbody tr th:only-of-type {\n",
       "        vertical-align: middle;\n",
       "    }\n",
       "\n",
       "    .dataframe tbody tr th {\n",
       "        vertical-align: top;\n",
       "    }\n",
       "\n",
       "    .dataframe thead th {\n",
       "        text-align: right;\n",
       "    }\n",
       "</style>\n",
       "<table border=\"1\" class=\"dataframe\">\n",
       "  <thead>\n",
       "    <tr style=\"text-align: right;\">\n",
       "      <th></th>\n",
       "      <th>Maths</th>\n",
       "    </tr>\n",
       "  </thead>\n",
       "  <tbody>\n",
       "    <tr>\n",
       "      <th>Christophe</th>\n",
       "      <td>17.0</td>\n",
       "    </tr>\n",
       "    <tr>\n",
       "      <th>Clara</th>\n",
       "      <td>10.0</td>\n",
       "    </tr>\n",
       "    <tr>\n",
       "      <th>Amine</th>\n",
       "      <td>13.0</td>\n",
       "    </tr>\n",
       "    <tr>\n",
       "      <th>Amandine</th>\n",
       "      <td>10.5</td>\n",
       "    </tr>\n",
       "    <tr>\n",
       "      <th>Lina</th>\n",
       "      <td>13.5</td>\n",
       "    </tr>\n",
       "  </tbody>\n",
       "</table>\n",
       "</div>"
      ],
      "text/plain": [
       "            Maths\n",
       "Christophe   17.0\n",
       "Clara        10.0\n",
       "Amine        13.0\n",
       "Amandine     10.5\n",
       "Lina         13.5"
      ]
     },
     "execution_count": 88,
     "metadata": {},
     "output_type": "execute_result"
    }
   ],
   "source": [
    "notes"
   ]
  },
  {
   "cell_type": "code",
   "execution_count": 89,
   "id": "7be5f8e2",
   "metadata": {},
   "outputs": [
    {
     "data": {
      "text/html": [
       "<div>\n",
       "<style scoped>\n",
       "    .dataframe tbody tr th:only-of-type {\n",
       "        vertical-align: middle;\n",
       "    }\n",
       "\n",
       "    .dataframe tbody tr th {\n",
       "        vertical-align: top;\n",
       "    }\n",
       "\n",
       "    .dataframe thead th {\n",
       "        text-align: right;\n",
       "    }\n",
       "</style>\n",
       "<table border=\"1\" class=\"dataframe\">\n",
       "  <thead>\n",
       "    <tr style=\"text-align: right;\">\n",
       "      <th></th>\n",
       "      <th>Maths</th>\n",
       "    </tr>\n",
       "  </thead>\n",
       "  <tbody>\n",
       "    <tr>\n",
       "      <th>Christophe</th>\n",
       "      <td>17.0</td>\n",
       "    </tr>\n",
       "    <tr>\n",
       "      <th>Amine</th>\n",
       "      <td>13.0</td>\n",
       "    </tr>\n",
       "    <tr>\n",
       "      <th>Amandine</th>\n",
       "      <td>10.5</td>\n",
       "    </tr>\n",
       "    <tr>\n",
       "      <th>Lina</th>\n",
       "      <td>13.5</td>\n",
       "    </tr>\n",
       "  </tbody>\n",
       "</table>\n",
       "</div>"
      ],
      "text/plain": [
       "            Maths\n",
       "Christophe   17.0\n",
       "Amine        13.0\n",
       "Amandine     10.5\n",
       "Lina         13.5"
      ]
     },
     "execution_count": 89,
     "metadata": {},
     "output_type": "execute_result"
    }
   ],
   "source": [
    "notes.drop('Clara', axis = 0)"
   ]
  },
  {
   "cell_type": "code",
   "execution_count": 90,
   "id": "62d86305",
   "metadata": {},
   "outputs": [
    {
     "data": {
      "text/html": [
       "<div>\n",
       "<style scoped>\n",
       "    .dataframe tbody tr th:only-of-type {\n",
       "        vertical-align: middle;\n",
       "    }\n",
       "\n",
       "    .dataframe tbody tr th {\n",
       "        vertical-align: top;\n",
       "    }\n",
       "\n",
       "    .dataframe thead th {\n",
       "        text-align: right;\n",
       "    }\n",
       "</style>\n",
       "<table border=\"1\" class=\"dataframe\">\n",
       "  <thead>\n",
       "    <tr style=\"text-align: right;\">\n",
       "      <th></th>\n",
       "      <th>Maths</th>\n",
       "    </tr>\n",
       "  </thead>\n",
       "  <tbody>\n",
       "    <tr>\n",
       "      <th>Christophe</th>\n",
       "      <td>17.0</td>\n",
       "    </tr>\n",
       "    <tr>\n",
       "      <th>Clara</th>\n",
       "      <td>10.0</td>\n",
       "    </tr>\n",
       "    <tr>\n",
       "      <th>Amine</th>\n",
       "      <td>13.0</td>\n",
       "    </tr>\n",
       "    <tr>\n",
       "      <th>Amandine</th>\n",
       "      <td>10.5</td>\n",
       "    </tr>\n",
       "    <tr>\n",
       "      <th>Lina</th>\n",
       "      <td>13.5</td>\n",
       "    </tr>\n",
       "  </tbody>\n",
       "</table>\n",
       "</div>"
      ],
      "text/plain": [
       "            Maths\n",
       "Christophe   17.0\n",
       "Clara        10.0\n",
       "Amine        13.0\n",
       "Amandine     10.5\n",
       "Lina         13.5"
      ]
     },
     "execution_count": 90,
     "metadata": {},
     "output_type": "execute_result"
    }
   ],
   "source": [
    "notes"
   ]
  },
  {
   "cell_type": "code",
   "execution_count": 91,
   "id": "ed9ba0dd",
   "metadata": {},
   "outputs": [],
   "source": [
    "notes.drop('Clara', axis = 0, inplace = True)"
   ]
  },
  {
   "cell_type": "code",
   "execution_count": 92,
   "id": "a3dd945d",
   "metadata": {},
   "outputs": [
    {
     "data": {
      "text/html": [
       "<div>\n",
       "<style scoped>\n",
       "    .dataframe tbody tr th:only-of-type {\n",
       "        vertical-align: middle;\n",
       "    }\n",
       "\n",
       "    .dataframe tbody tr th {\n",
       "        vertical-align: top;\n",
       "    }\n",
       "\n",
       "    .dataframe thead th {\n",
       "        text-align: right;\n",
       "    }\n",
       "</style>\n",
       "<table border=\"1\" class=\"dataframe\">\n",
       "  <thead>\n",
       "    <tr style=\"text-align: right;\">\n",
       "      <th></th>\n",
       "      <th>Maths</th>\n",
       "    </tr>\n",
       "  </thead>\n",
       "  <tbody>\n",
       "    <tr>\n",
       "      <th>Christophe</th>\n",
       "      <td>17.0</td>\n",
       "    </tr>\n",
       "    <tr>\n",
       "      <th>Amine</th>\n",
       "      <td>13.0</td>\n",
       "    </tr>\n",
       "    <tr>\n",
       "      <th>Amandine</th>\n",
       "      <td>10.5</td>\n",
       "    </tr>\n",
       "    <tr>\n",
       "      <th>Lina</th>\n",
       "      <td>13.5</td>\n",
       "    </tr>\n",
       "  </tbody>\n",
       "</table>\n",
       "</div>"
      ],
      "text/plain": [
       "            Maths\n",
       "Christophe   17.0\n",
       "Amine        13.0\n",
       "Amandine     10.5\n",
       "Lina         13.5"
      ]
     },
     "execution_count": 92,
     "metadata": {},
     "output_type": "execute_result"
    }
   ],
   "source": [
    "notes"
   ]
  },
  {
   "cell_type": "code",
   "execution_count": 93,
   "id": "452b1476",
   "metadata": {},
   "outputs": [],
   "source": [
    "notes = notes.drop('Amine')"
   ]
  },
  {
   "cell_type": "code",
   "execution_count": 94,
   "id": "362c8014",
   "metadata": {
    "scrolled": true
   },
   "outputs": [
    {
     "data": {
      "text/html": [
       "<div>\n",
       "<style scoped>\n",
       "    .dataframe tbody tr th:only-of-type {\n",
       "        vertical-align: middle;\n",
       "    }\n",
       "\n",
       "    .dataframe tbody tr th {\n",
       "        vertical-align: top;\n",
       "    }\n",
       "\n",
       "    .dataframe thead th {\n",
       "        text-align: right;\n",
       "    }\n",
       "</style>\n",
       "<table border=\"1\" class=\"dataframe\">\n",
       "  <thead>\n",
       "    <tr style=\"text-align: right;\">\n",
       "      <th></th>\n",
       "      <th>Maths</th>\n",
       "    </tr>\n",
       "  </thead>\n",
       "  <tbody>\n",
       "    <tr>\n",
       "      <th>Christophe</th>\n",
       "      <td>17.0</td>\n",
       "    </tr>\n",
       "    <tr>\n",
       "      <th>Amandine</th>\n",
       "      <td>10.5</td>\n",
       "    </tr>\n",
       "    <tr>\n",
       "      <th>Lina</th>\n",
       "      <td>13.5</td>\n",
       "    </tr>\n",
       "  </tbody>\n",
       "</table>\n",
       "</div>"
      ],
      "text/plain": [
       "            Maths\n",
       "Christophe   17.0\n",
       "Amandine     10.5\n",
       "Lina         13.5"
      ]
     },
     "execution_count": 94,
     "metadata": {},
     "output_type": "execute_result"
    }
   ],
   "source": [
    "notes"
   ]
  },
  {
   "cell_type": "markdown",
   "id": "8aaf8b45",
   "metadata": {},
   "source": [
    "# Sélection des données d’un Dataframe"
   ]
  },
  {
   "cell_type": "code",
   "execution_count": 95,
   "id": "e9c780ca",
   "metadata": {},
   "outputs": [],
   "source": [
    "notes_maths_dic = {'Christophe': 17, 'Clara': 10, 'Amine': 13, 'Amandine': 10.5, 'Lina': 13.5}\n",
    "notes_maths = pd.Series(notes_maths_dic)\n",
    "\n",
    "notes_physique_dic = {'Christophe': 15, 'Clara': 8, 'Amine':10.5, 'Amandine': 17, 'Lina': 13.5}\n",
    "notes_physique = pd.Series(notes_physique_dic)\n",
    "\n",
    "notes = pd.DataFrame({'Maths': notes_maths, 'Physique': notes_physique})\n",
    "\n",
    "notes['Moyenne'] = (notes['Maths'] + notes['Physique'])/2"
   ]
  },
  {
   "cell_type": "code",
   "execution_count": 96,
   "id": "3d91e63f",
   "metadata": {},
   "outputs": [
    {
     "data": {
      "text/html": [
       "<div>\n",
       "<style scoped>\n",
       "    .dataframe tbody tr th:only-of-type {\n",
       "        vertical-align: middle;\n",
       "    }\n",
       "\n",
       "    .dataframe tbody tr th {\n",
       "        vertical-align: top;\n",
       "    }\n",
       "\n",
       "    .dataframe thead th {\n",
       "        text-align: right;\n",
       "    }\n",
       "</style>\n",
       "<table border=\"1\" class=\"dataframe\">\n",
       "  <thead>\n",
       "    <tr style=\"text-align: right;\">\n",
       "      <th></th>\n",
       "      <th>Maths</th>\n",
       "      <th>Physique</th>\n",
       "      <th>Moyenne</th>\n",
       "    </tr>\n",
       "  </thead>\n",
       "  <tbody>\n",
       "    <tr>\n",
       "      <th>Christophe</th>\n",
       "      <td>17.0</td>\n",
       "      <td>15.0</td>\n",
       "      <td>16.00</td>\n",
       "    </tr>\n",
       "    <tr>\n",
       "      <th>Clara</th>\n",
       "      <td>10.0</td>\n",
       "      <td>8.0</td>\n",
       "      <td>9.00</td>\n",
       "    </tr>\n",
       "    <tr>\n",
       "      <th>Amine</th>\n",
       "      <td>13.0</td>\n",
       "      <td>10.5</td>\n",
       "      <td>11.75</td>\n",
       "    </tr>\n",
       "    <tr>\n",
       "      <th>Amandine</th>\n",
       "      <td>10.5</td>\n",
       "      <td>17.0</td>\n",
       "      <td>13.75</td>\n",
       "    </tr>\n",
       "    <tr>\n",
       "      <th>Lina</th>\n",
       "      <td>13.5</td>\n",
       "      <td>13.5</td>\n",
       "      <td>13.50</td>\n",
       "    </tr>\n",
       "  </tbody>\n",
       "</table>\n",
       "</div>"
      ],
      "text/plain": [
       "            Maths  Physique  Moyenne\n",
       "Christophe   17.0      15.0    16.00\n",
       "Clara        10.0       8.0     9.00\n",
       "Amine        13.0      10.5    11.75\n",
       "Amandine     10.5      17.0    13.75\n",
       "Lina         13.5      13.5    13.50"
      ]
     },
     "execution_count": 96,
     "metadata": {},
     "output_type": "execute_result"
    }
   ],
   "source": [
    "notes"
   ]
  },
  {
   "cell_type": "code",
   "execution_count": 97,
   "id": "30ec8241",
   "metadata": {},
   "outputs": [
    {
     "data": {
      "text/plain": [
       "Christophe    17.0\n",
       "Clara         10.0\n",
       "Amine         13.0\n",
       "Amandine      10.5\n",
       "Lina          13.5\n",
       "Name: Maths, dtype: float64"
      ]
     },
     "execution_count": 97,
     "metadata": {},
     "output_type": "execute_result"
    }
   ],
   "source": [
    "notes['Maths']"
   ]
  },
  {
   "cell_type": "code",
   "execution_count": 98,
   "id": "aeadd6f2",
   "metadata": {},
   "outputs": [
    {
     "data": {
      "text/plain": [
       "Christophe    17.0\n",
       "Clara         10.0\n",
       "Amine         13.0\n",
       "Amandine      10.5\n",
       "Lina          13.5\n",
       "Name: Maths, dtype: float64"
      ]
     },
     "execution_count": 98,
     "metadata": {},
     "output_type": "execute_result"
    }
   ],
   "source": [
    "notes.Maths"
   ]
  },
  {
   "cell_type": "code",
   "execution_count": 99,
   "id": "6f4cfa8c",
   "metadata": {},
   "outputs": [
    {
     "data": {
      "text/plain": [
       "True"
      ]
     },
     "execution_count": 99,
     "metadata": {},
     "output_type": "execute_result"
    }
   ],
   "source": [
    "notes.Maths is notes['Maths']"
   ]
  },
  {
   "cell_type": "code",
   "execution_count": 100,
   "id": "25561df9",
   "metadata": {},
   "outputs": [
    {
     "data": {
      "text/html": [
       "<div>\n",
       "<style scoped>\n",
       "    .dataframe tbody tr th:only-of-type {\n",
       "        vertical-align: middle;\n",
       "    }\n",
       "\n",
       "    .dataframe tbody tr th {\n",
       "        vertical-align: top;\n",
       "    }\n",
       "\n",
       "    .dataframe thead th {\n",
       "        text-align: right;\n",
       "    }\n",
       "</style>\n",
       "<table border=\"1\" class=\"dataframe\">\n",
       "  <thead>\n",
       "    <tr style=\"text-align: right;\">\n",
       "      <th></th>\n",
       "      <th>Maths</th>\n",
       "      <th>Physique</th>\n",
       "    </tr>\n",
       "  </thead>\n",
       "  <tbody>\n",
       "    <tr>\n",
       "      <th>Christophe</th>\n",
       "      <td>17.0</td>\n",
       "      <td>15.0</td>\n",
       "    </tr>\n",
       "    <tr>\n",
       "      <th>Clara</th>\n",
       "      <td>10.0</td>\n",
       "      <td>8.0</td>\n",
       "    </tr>\n",
       "    <tr>\n",
       "      <th>Amine</th>\n",
       "      <td>13.0</td>\n",
       "      <td>10.5</td>\n",
       "    </tr>\n",
       "    <tr>\n",
       "      <th>Amandine</th>\n",
       "      <td>10.5</td>\n",
       "      <td>17.0</td>\n",
       "    </tr>\n",
       "    <tr>\n",
       "      <th>Lina</th>\n",
       "      <td>13.5</td>\n",
       "      <td>13.5</td>\n",
       "    </tr>\n",
       "  </tbody>\n",
       "</table>\n",
       "</div>"
      ],
      "text/plain": [
       "            Maths  Physique\n",
       "Christophe   17.0      15.0\n",
       "Clara        10.0       8.0\n",
       "Amine        13.0      10.5\n",
       "Amandine     10.5      17.0\n",
       "Lina         13.5      13.5"
      ]
     },
     "execution_count": 100,
     "metadata": {},
     "output_type": "execute_result"
    }
   ],
   "source": [
    "notes[['Maths', 'Physique']]"
   ]
  },
  {
   "cell_type": "code",
   "execution_count": 101,
   "id": "5e7d3d76",
   "metadata": {},
   "outputs": [
    {
     "data": {
      "text/html": [
       "<div>\n",
       "<style scoped>\n",
       "    .dataframe tbody tr th:only-of-type {\n",
       "        vertical-align: middle;\n",
       "    }\n",
       "\n",
       "    .dataframe tbody tr th {\n",
       "        vertical-align: top;\n",
       "    }\n",
       "\n",
       "    .dataframe thead th {\n",
       "        text-align: right;\n",
       "    }\n",
       "</style>\n",
       "<table border=\"1\" class=\"dataframe\">\n",
       "  <thead>\n",
       "    <tr style=\"text-align: right;\">\n",
       "      <th></th>\n",
       "      <th>Maths</th>\n",
       "      <th>Physique</th>\n",
       "      <th>Moyenne</th>\n",
       "    </tr>\n",
       "  </thead>\n",
       "  <tbody>\n",
       "    <tr>\n",
       "      <th>Christophe</th>\n",
       "      <td>17.0</td>\n",
       "      <td>15.0</td>\n",
       "      <td>16.00</td>\n",
       "    </tr>\n",
       "    <tr>\n",
       "      <th>Clara</th>\n",
       "      <td>10.0</td>\n",
       "      <td>8.0</td>\n",
       "      <td>9.00</td>\n",
       "    </tr>\n",
       "    <tr>\n",
       "      <th>Amine</th>\n",
       "      <td>13.0</td>\n",
       "      <td>10.5</td>\n",
       "      <td>11.75</td>\n",
       "    </tr>\n",
       "    <tr>\n",
       "      <th>Amandine</th>\n",
       "      <td>10.5</td>\n",
       "      <td>17.0</td>\n",
       "      <td>13.75</td>\n",
       "    </tr>\n",
       "    <tr>\n",
       "      <th>Lina</th>\n",
       "      <td>13.5</td>\n",
       "      <td>13.5</td>\n",
       "      <td>13.50</td>\n",
       "    </tr>\n",
       "  </tbody>\n",
       "</table>\n",
       "</div>"
      ],
      "text/plain": [
       "            Maths  Physique  Moyenne\n",
       "Christophe   17.0      15.0    16.00\n",
       "Clara        10.0       8.0     9.00\n",
       "Amine        13.0      10.5    11.75\n",
       "Amandine     10.5      17.0    13.75\n",
       "Lina         13.5      13.5    13.50"
      ]
     },
     "execution_count": 101,
     "metadata": {},
     "output_type": "execute_result"
    }
   ],
   "source": [
    "notes"
   ]
  },
  {
   "cell_type": "code",
   "execution_count": 102,
   "id": "44ab01e3",
   "metadata": {},
   "outputs": [
    {
     "ename": "KeyError",
     "evalue": "'Christphe'",
     "output_type": "error",
     "traceback": [
      "\u001b[1;31m---------------------------------------------------------------------------\u001b[0m",
      "\u001b[1;31mKeyError\u001b[0m                                  Traceback (most recent call last)",
      "File \u001b[1;32m~\\anaconda3\\lib\\site-packages\\pandas\\core\\indexes\\base.py:3621\u001b[0m, in \u001b[0;36mIndex.get_loc\u001b[1;34m(self, key, method, tolerance)\u001b[0m\n\u001b[0;32m   3620\u001b[0m \u001b[38;5;28;01mtry\u001b[39;00m:\n\u001b[1;32m-> 3621\u001b[0m     \u001b[38;5;28;01mreturn\u001b[39;00m \u001b[38;5;28;43mself\u001b[39;49m\u001b[38;5;241;43m.\u001b[39;49m\u001b[43m_engine\u001b[49m\u001b[38;5;241;43m.\u001b[39;49m\u001b[43mget_loc\u001b[49m\u001b[43m(\u001b[49m\u001b[43mcasted_key\u001b[49m\u001b[43m)\u001b[49m\n\u001b[0;32m   3622\u001b[0m \u001b[38;5;28;01mexcept\u001b[39;00m \u001b[38;5;167;01mKeyError\u001b[39;00m \u001b[38;5;28;01mas\u001b[39;00m err:\n",
      "File \u001b[1;32m~\\anaconda3\\lib\\site-packages\\pandas\\_libs\\index.pyx:136\u001b[0m, in \u001b[0;36mpandas._libs.index.IndexEngine.get_loc\u001b[1;34m()\u001b[0m\n",
      "File \u001b[1;32m~\\anaconda3\\lib\\site-packages\\pandas\\_libs\\index.pyx:163\u001b[0m, in \u001b[0;36mpandas._libs.index.IndexEngine.get_loc\u001b[1;34m()\u001b[0m\n",
      "File \u001b[1;32mpandas\\_libs\\hashtable_class_helper.pxi:5198\u001b[0m, in \u001b[0;36mpandas._libs.hashtable.PyObjectHashTable.get_item\u001b[1;34m()\u001b[0m\n",
      "File \u001b[1;32mpandas\\_libs\\hashtable_class_helper.pxi:5206\u001b[0m, in \u001b[0;36mpandas._libs.hashtable.PyObjectHashTable.get_item\u001b[1;34m()\u001b[0m\n",
      "\u001b[1;31mKeyError\u001b[0m: 'Christphe'",
      "\nThe above exception was the direct cause of the following exception:\n",
      "\u001b[1;31mKeyError\u001b[0m                                  Traceback (most recent call last)",
      "Input \u001b[1;32mIn [102]\u001b[0m, in \u001b[0;36m<cell line: 1>\u001b[1;34m()\u001b[0m\n\u001b[1;32m----> 1\u001b[0m \u001b[43mnotes\u001b[49m\u001b[43m[\u001b[49m\u001b[38;5;124;43m'\u001b[39;49m\u001b[38;5;124;43mChristphe\u001b[39;49m\u001b[38;5;124;43m'\u001b[39;49m\u001b[43m]\u001b[49m\n",
      "File \u001b[1;32m~\\anaconda3\\lib\\site-packages\\pandas\\core\\frame.py:3505\u001b[0m, in \u001b[0;36mDataFrame.__getitem__\u001b[1;34m(self, key)\u001b[0m\n\u001b[0;32m   3503\u001b[0m \u001b[38;5;28;01mif\u001b[39;00m \u001b[38;5;28mself\u001b[39m\u001b[38;5;241m.\u001b[39mcolumns\u001b[38;5;241m.\u001b[39mnlevels \u001b[38;5;241m>\u001b[39m \u001b[38;5;241m1\u001b[39m:\n\u001b[0;32m   3504\u001b[0m     \u001b[38;5;28;01mreturn\u001b[39;00m \u001b[38;5;28mself\u001b[39m\u001b[38;5;241m.\u001b[39m_getitem_multilevel(key)\n\u001b[1;32m-> 3505\u001b[0m indexer \u001b[38;5;241m=\u001b[39m \u001b[38;5;28;43mself\u001b[39;49m\u001b[38;5;241;43m.\u001b[39;49m\u001b[43mcolumns\u001b[49m\u001b[38;5;241;43m.\u001b[39;49m\u001b[43mget_loc\u001b[49m\u001b[43m(\u001b[49m\u001b[43mkey\u001b[49m\u001b[43m)\u001b[49m\n\u001b[0;32m   3506\u001b[0m \u001b[38;5;28;01mif\u001b[39;00m is_integer(indexer):\n\u001b[0;32m   3507\u001b[0m     indexer \u001b[38;5;241m=\u001b[39m [indexer]\n",
      "File \u001b[1;32m~\\anaconda3\\lib\\site-packages\\pandas\\core\\indexes\\base.py:3623\u001b[0m, in \u001b[0;36mIndex.get_loc\u001b[1;34m(self, key, method, tolerance)\u001b[0m\n\u001b[0;32m   3621\u001b[0m     \u001b[38;5;28;01mreturn\u001b[39;00m \u001b[38;5;28mself\u001b[39m\u001b[38;5;241m.\u001b[39m_engine\u001b[38;5;241m.\u001b[39mget_loc(casted_key)\n\u001b[0;32m   3622\u001b[0m \u001b[38;5;28;01mexcept\u001b[39;00m \u001b[38;5;167;01mKeyError\u001b[39;00m \u001b[38;5;28;01mas\u001b[39;00m err:\n\u001b[1;32m-> 3623\u001b[0m     \u001b[38;5;28;01mraise\u001b[39;00m \u001b[38;5;167;01mKeyError\u001b[39;00m(key) \u001b[38;5;28;01mfrom\u001b[39;00m \u001b[38;5;21;01merr\u001b[39;00m\n\u001b[0;32m   3624\u001b[0m \u001b[38;5;28;01mexcept\u001b[39;00m \u001b[38;5;167;01mTypeError\u001b[39;00m:\n\u001b[0;32m   3625\u001b[0m     \u001b[38;5;66;03m# If we have a listlike key, _check_indexing_error will raise\u001b[39;00m\n\u001b[0;32m   3626\u001b[0m     \u001b[38;5;66;03m#  InvalidIndexError. Otherwise we fall through and re-raise\u001b[39;00m\n\u001b[0;32m   3627\u001b[0m     \u001b[38;5;66;03m#  the TypeError.\u001b[39;00m\n\u001b[0;32m   3628\u001b[0m     \u001b[38;5;28mself\u001b[39m\u001b[38;5;241m.\u001b[39m_check_indexing_error(key)\n",
      "\u001b[1;31mKeyError\u001b[0m: 'Christphe'"
     ]
    }
   ],
   "source": [
    "notes['Christphe']"
   ]
  },
  {
   "cell_type": "code",
   "execution_count": null,
   "id": "4c62c83d",
   "metadata": {},
   "outputs": [],
   "source": [
    "notes.loc['Christophe']"
   ]
  },
  {
   "cell_type": "code",
   "execution_count": null,
   "id": "647e8619",
   "metadata": {},
   "outputs": [],
   "source": [
    "notes.iloc[1]"
   ]
  },
  {
   "cell_type": "code",
   "execution_count": null,
   "id": "aeef1bc0",
   "metadata": {},
   "outputs": [],
   "source": [
    "notes.loc['Amine', 'Moyenne']"
   ]
  },
  {
   "cell_type": "code",
   "execution_count": null,
   "id": "84775bea",
   "metadata": {},
   "outputs": [],
   "source": [
    "notes.loc['Lina', 'Maths']"
   ]
  },
  {
   "cell_type": "code",
   "execution_count": null,
   "id": "9d26c2ef",
   "metadata": {},
   "outputs": [],
   "source": [
    "notes.loc[['Amine', 'Amandine'],['Maths', 'Physique']]"
   ]
  },
  {
   "cell_type": "markdown",
   "id": "f87bafa9",
   "metadata": {},
   "source": [
    "# Sélection par tranche"
   ]
  },
  {
   "cell_type": "code",
   "execution_count": null,
   "id": "40da7b5f",
   "metadata": {},
   "outputs": [],
   "source": [
    "notes_maths_dic = {'Christophe': 17, 'Clara': 10, 'Amine': 13, 'Amandine': 10.5, 'Lina': 13.5}\n",
    "notes_maths = pd.Series(notes_maths_dic)\n",
    "\n",
    "notes_physique_dic = {'Christophe': 15, 'Clara': 8, 'Amine':10.5, 'Amandine': 17, 'Lina': 13.5}\n",
    "notes_physique = pd.Series(notes_physique_dic)\n",
    "\n",
    "notes_informatique_dic = {'Christophe': 12, 'Clara': 11, 'Amine': 8, 'Amandine': 14, 'Lina': 17}\n",
    "notes_informatique = pd.Series(notes_informatique_dic)\n",
    "\n",
    "notes_anglais_dic = {'Christophe': 18, 'Clara':15, 'Amine':10, 'Amandine': 13, 'Lina': 19}\n",
    "notes_anglais = pd.Series(notes_anglais_dic)\n",
    "\n",
    "notes = pd.DataFrame({'Maths': notes_maths, 'Physique': notes_physique, 'Informatique': notes_informatique, \n",
    "                      'Anglais':notes_anglais})\n",
    "\n",
    "notes['Moyenne'] = (notes['Maths'] + notes['Physique'] + notes['Informatique'] + notes['Anglais'])/4"
   ]
  },
  {
   "cell_type": "code",
   "execution_count": null,
   "id": "8b3c5e27",
   "metadata": {},
   "outputs": [],
   "source": [
    "notes"
   ]
  },
  {
   "cell_type": "code",
   "execution_count": null,
   "id": "e31effac",
   "metadata": {},
   "outputs": [],
   "source": [
    "notes.loc['Clara':'Amandine', :]"
   ]
  },
  {
   "cell_type": "code",
   "execution_count": null,
   "id": "90d0ae1c",
   "metadata": {},
   "outputs": [],
   "source": [
    "notes.loc['Clara':'Amandine', 'Physique':'Anglais']"
   ]
  },
  {
   "cell_type": "code",
   "execution_count": null,
   "id": "8ccbc348",
   "metadata": {},
   "outputs": [],
   "source": [
    "notes.loc['Amine':, 'Informatique':]"
   ]
  },
  {
   "cell_type": "code",
   "execution_count": null,
   "id": "cc5390f6",
   "metadata": {},
   "outputs": [],
   "source": [
    "notes"
   ]
  },
  {
   "cell_type": "code",
   "execution_count": null,
   "id": "6f10e66c",
   "metadata": {},
   "outputs": [],
   "source": [
    "notes.iloc[1:, 0:3]"
   ]
  },
  {
   "cell_type": "code",
   "execution_count": null,
   "id": "2888964a",
   "metadata": {},
   "outputs": [],
   "source": [
    "notes.iloc[1:3, 3:]"
   ]
  },
  {
   "cell_type": "code",
   "execution_count": null,
   "id": "1dcdb0d3",
   "metadata": {},
   "outputs": [],
   "source": [
    "notes.iloc[1:4,:]"
   ]
  },
  {
   "cell_type": "code",
   "execution_count": null,
   "id": "42572e5e",
   "metadata": {},
   "outputs": [],
   "source": [
    "notes.iloc[1:4]"
   ]
  },
  {
   "cell_type": "code",
   "execution_count": null,
   "id": "f045d13b",
   "metadata": {},
   "outputs": [],
   "source": [
    "notes.loc['Clara':'Amandine']"
   ]
  },
  {
   "cell_type": "code",
   "execution_count": null,
   "id": "4484c9ac",
   "metadata": {},
   "outputs": [],
   "source": [
    "notes"
   ]
  },
  {
   "cell_type": "code",
   "execution_count": null,
   "id": "3508f059",
   "metadata": {},
   "outputs": [],
   "source": [
    "notes > 10"
   ]
  },
  {
   "cell_type": "code",
   "execution_count": null,
   "id": "a63316c1",
   "metadata": {},
   "outputs": [],
   "source": [
    "notes_bool = notes > 10"
   ]
  },
  {
   "cell_type": "code",
   "execution_count": null,
   "id": "a467cee7",
   "metadata": {},
   "outputs": [],
   "source": [
    "notes_bool"
   ]
  },
  {
   "cell_type": "code",
   "execution_count": null,
   "id": "7310f333",
   "metadata": {},
   "outputs": [],
   "source": [
    "notes[notes_bool]"
   ]
  },
  {
   "cell_type": "code",
   "execution_count": null,
   "id": "bf64c715",
   "metadata": {},
   "outputs": [],
   "source": [
    "notes[notes > 10]"
   ]
  },
  {
   "cell_type": "code",
   "execution_count": null,
   "id": "7dbd76a8",
   "metadata": {},
   "outputs": [],
   "source": [
    "notes['Physique'] > 10"
   ]
  },
  {
   "cell_type": "code",
   "execution_count": null,
   "id": "e45f8eef",
   "metadata": {},
   "outputs": [],
   "source": [
    "notes[notes['Physique'] > 10]"
   ]
  },
  {
   "cell_type": "code",
   "execution_count": null,
   "id": "ca56e4ab",
   "metadata": {},
   "outputs": [],
   "source": [
    "notes"
   ]
  },
  {
   "cell_type": "code",
   "execution_count": null,
   "id": "ff8666b0",
   "metadata": {},
   "outputs": [],
   "source": [
    "notes_physique_10 = notes[notes['Physique'] > 10]"
   ]
  },
  {
   "cell_type": "code",
   "execution_count": null,
   "id": "7dbe0134",
   "metadata": {},
   "outputs": [],
   "source": [
    "notes_physique_10"
   ]
  },
  {
   "cell_type": "code",
   "execution_count": null,
   "id": "d80bb195",
   "metadata": {},
   "outputs": [],
   "source": [
    "notes_physique_10['Informatique']"
   ]
  },
  {
   "cell_type": "code",
   "execution_count": null,
   "id": "becf77f7",
   "metadata": {},
   "outputs": [],
   "source": [
    "notes[notes['Physique'] > 10]['Informatique']"
   ]
  },
  {
   "cell_type": "code",
   "execution_count": null,
   "id": "f87d632d",
   "metadata": {},
   "outputs": [],
   "source": [
    "notes[notes['Physique'] > 10][['Informatique']]"
   ]
  },
  {
   "cell_type": "code",
   "execution_count": null,
   "id": "306c0091",
   "metadata": {},
   "outputs": [],
   "source": [
    "notes[notes['Physique'] > 10][['Maths','Physique','Informatique']]"
   ]
  },
  {
   "cell_type": "markdown",
   "id": "19ee526a",
   "metadata": {},
   "source": [
    "# Sélection selon plusieurs conditions"
   ]
  },
  {
   "cell_type": "code",
   "execution_count": null,
   "id": "1c6e2734",
   "metadata": {},
   "outputs": [],
   "source": [
    "notes"
   ]
  },
  {
   "cell_type": "code",
   "execution_count": null,
   "id": "6e64b851",
   "metadata": {},
   "outputs": [],
   "source": [
    "notes[(notes['Maths']>=10) & (notes['Informatique'] >=12)]"
   ]
  },
  {
   "cell_type": "code",
   "execution_count": null,
   "id": "93f51ed6",
   "metadata": {},
   "outputs": [],
   "source": [
    "notes[(notes['Maths'] > 10) | (notes['Informatique'] > 14)]"
   ]
  },
  {
   "cell_type": "code",
   "execution_count": null,
   "id": "95abe1ad",
   "metadata": {},
   "outputs": [],
   "source": [
    "notes"
   ]
  },
  {
   "cell_type": "code",
   "execution_count": null,
   "id": "739ed197",
   "metadata": {},
   "outputs": [],
   "source": [
    "notes.reset_index()"
   ]
  },
  {
   "cell_type": "code",
   "execution_count": null,
   "id": "82ae62c8",
   "metadata": {},
   "outputs": [],
   "source": [
    "notes"
   ]
  },
  {
   "cell_type": "code",
   "execution_count": null,
   "id": "c02ebcda",
   "metadata": {},
   "outputs": [],
   "source": [
    "etudiants = ['etudiant1', 'etudiant2', 'etudiant3', 'etudiant4', 'etudiant5']"
   ]
  },
  {
   "cell_type": "code",
   "execution_count": null,
   "id": "32a3e132",
   "metadata": {},
   "outputs": [],
   "source": [
    "notes['Etudiants'] = etudiants"
   ]
  },
  {
   "cell_type": "code",
   "execution_count": null,
   "id": "d6cec466",
   "metadata": {},
   "outputs": [],
   "source": [
    "notes"
   ]
  },
  {
   "cell_type": "code",
   "execution_count": null,
   "id": "6309aaf9",
   "metadata": {},
   "outputs": [],
   "source": [
    "notes.set_index('Etudiants', inplace = True)"
   ]
  },
  {
   "cell_type": "code",
   "execution_count": null,
   "id": "88278b16",
   "metadata": {},
   "outputs": [],
   "source": [
    "notes"
   ]
  },
  {
   "cell_type": "code",
   "execution_count": null,
   "id": "5990a641",
   "metadata": {},
   "outputs": [],
   "source": [
    "notes.loc['etudiant1']"
   ]
  },
  {
   "cell_type": "code",
   "execution_count": null,
   "id": "498661b5",
   "metadata": {},
   "outputs": [],
   "source": [
    "notes.loc[['etudiant1', 'etudiant3']]"
   ]
  },
  {
   "cell_type": "code",
   "execution_count": null,
   "id": "61803a28",
   "metadata": {},
   "outputs": [],
   "source": []
  }
 ],
 "metadata": {
  "kernelspec": {
   "display_name": "Python 3 (ipykernel)",
   "language": "python",
   "name": "python3"
  },
  "language_info": {
   "codemirror_mode": {
    "name": "ipython",
    "version": 3
   },
   "file_extension": ".py",
   "mimetype": "text/x-python",
   "name": "python",
   "nbconvert_exporter": "python",
   "pygments_lexer": "ipython3",
   "version": "3.9.12"
  }
 },
 "nbformat": 4,
 "nbformat_minor": 5
}
